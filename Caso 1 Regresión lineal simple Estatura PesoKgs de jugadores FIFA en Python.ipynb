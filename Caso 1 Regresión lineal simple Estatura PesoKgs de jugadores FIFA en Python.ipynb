{
 "cells": [
  {
   "cell_type": "markdown",
   "metadata": {},
   "source": [
    "# Librerías y carga de datos"
   ]
  },
  {
   "cell_type": "code",
   "execution_count": 2,
   "metadata": {},
   "outputs": [],
   "source": [
    "import pandas as pd\n",
    "import numpy as np\n",
    "from sklearn import linear_model\n",
    "from sklearn.linear_model import LinearRegression\n",
    "from sklearn.metrics import mean_squared_error, r2_score\n",
    "import matplotlib.pyplot as plt\n",
    "from sklearn.model_selection import train_test_split\n",
    "from sklearn import metrics\n",
    "# matplotlib inline\n",
    "datos = pd.read_csv(\"https://raw.githubusercontent.com/rpizarrog/Analisis-Inteligente-de-datos/main/datos/datos.limpios.csv\", encoding='latin1')\n"
   ]
  },
  {
   "cell_type": "markdown",
   "metadata": {},
   "source": [
    "## Descripción de datos"
   ]
  },
  {
   "cell_type": "code",
   "execution_count": 50,
   "metadata": {},
   "outputs": [
    {
     "data": {
      "text/html": [
       "<div>\n",
       "<style scoped>\n",
       "    .dataframe tbody tr th:only-of-type {\n",
       "        vertical-align: middle;\n",
       "    }\n",
       "\n",
       "    .dataframe tbody tr th {\n",
       "        vertical-align: top;\n",
       "    }\n",
       "\n",
       "    .dataframe thead th {\n",
       "        text-align: right;\n",
       "    }\n",
       "</style>\n",
       "<table border=\"1\" class=\"dataframe\">\n",
       "  <thead>\n",
       "    <tr style=\"text-align: right;\">\n",
       "      <th></th>\n",
       "      <th>X</th>\n",
       "      <th>X</th>\n",
       "      <th>Name</th>\n",
       "      <th>Age</th>\n",
       "      <th>Nationality</th>\n",
       "      <th>Overall</th>\n",
       "      <th>Potential</th>\n",
       "      <th>Club</th>\n",
       "      <th>Preferred.Foot</th>\n",
       "      <th>International.Reputation</th>\n",
       "      <th>...</th>\n",
       "      <th>StandingTackle</th>\n",
       "      <th>SlidingTackle</th>\n",
       "      <th>GKDiving</th>\n",
       "      <th>GKHandling</th>\n",
       "      <th>GKKicking</th>\n",
       "      <th>GKPositioning</th>\n",
       "      <th>GKReflexes</th>\n",
       "      <th>Valor</th>\n",
       "      <th>Estatura</th>\n",
       "      <th>PesoKgs</th>\n",
       "    </tr>\n",
       "  </thead>\n",
       "  <tbody>\n",
       "    <tr>\n",
       "      <th>0</th>\n",
       "      <td>1</td>\n",
       "      <td>1</td>\n",
       "      <td>L. Messi</td>\n",
       "      <td>31</td>\n",
       "      <td>Argentina</td>\n",
       "      <td>94</td>\n",
       "      <td>94</td>\n",
       "      <td>FC Barcelona</td>\n",
       "      <td>Left</td>\n",
       "      <td>5</td>\n",
       "      <td>...</td>\n",
       "      <td>28</td>\n",
       "      <td>26</td>\n",
       "      <td>6</td>\n",
       "      <td>11</td>\n",
       "      <td>15</td>\n",
       "      <td>14</td>\n",
       "      <td>8</td>\n",
       "      <td>110500000</td>\n",
       "      <td>1.70</td>\n",
       "      <td>72.12</td>\n",
       "    </tr>\n",
       "    <tr>\n",
       "      <th>1</th>\n",
       "      <td>2</td>\n",
       "      <td>2</td>\n",
       "      <td>Cristiano Ronaldo</td>\n",
       "      <td>33</td>\n",
       "      <td>Portugal</td>\n",
       "      <td>94</td>\n",
       "      <td>94</td>\n",
       "      <td>Juventus</td>\n",
       "      <td>Right</td>\n",
       "      <td>5</td>\n",
       "      <td>...</td>\n",
       "      <td>31</td>\n",
       "      <td>23</td>\n",
       "      <td>7</td>\n",
       "      <td>11</td>\n",
       "      <td>15</td>\n",
       "      <td>14</td>\n",
       "      <td>11</td>\n",
       "      <td>77000000</td>\n",
       "      <td>1.88</td>\n",
       "      <td>83.01</td>\n",
       "    </tr>\n",
       "    <tr>\n",
       "      <th>2</th>\n",
       "      <td>3</td>\n",
       "      <td>3</td>\n",
       "      <td>Neymar Jr</td>\n",
       "      <td>26</td>\n",
       "      <td>Brazil</td>\n",
       "      <td>92</td>\n",
       "      <td>93</td>\n",
       "      <td>Paris Saint-Germain</td>\n",
       "      <td>Right</td>\n",
       "      <td>5</td>\n",
       "      <td>...</td>\n",
       "      <td>24</td>\n",
       "      <td>33</td>\n",
       "      <td>9</td>\n",
       "      <td>9</td>\n",
       "      <td>15</td>\n",
       "      <td>15</td>\n",
       "      <td>11</td>\n",
       "      <td>118500000</td>\n",
       "      <td>1.75</td>\n",
       "      <td>68.04</td>\n",
       "    </tr>\n",
       "    <tr>\n",
       "      <th>3</th>\n",
       "      <td>4</td>\n",
       "      <td>4</td>\n",
       "      <td>De Gea</td>\n",
       "      <td>27</td>\n",
       "      <td>Spain</td>\n",
       "      <td>91</td>\n",
       "      <td>93</td>\n",
       "      <td>Manchester United</td>\n",
       "      <td>Right</td>\n",
       "      <td>4</td>\n",
       "      <td>...</td>\n",
       "      <td>21</td>\n",
       "      <td>13</td>\n",
       "      <td>90</td>\n",
       "      <td>85</td>\n",
       "      <td>87</td>\n",
       "      <td>88</td>\n",
       "      <td>94</td>\n",
       "      <td>72000000</td>\n",
       "      <td>1.93</td>\n",
       "      <td>76.20</td>\n",
       "    </tr>\n",
       "    <tr>\n",
       "      <th>4</th>\n",
       "      <td>5</td>\n",
       "      <td>5</td>\n",
       "      <td>K. De Bruyne</td>\n",
       "      <td>27</td>\n",
       "      <td>Belgium</td>\n",
       "      <td>91</td>\n",
       "      <td>92</td>\n",
       "      <td>Manchester City</td>\n",
       "      <td>Right</td>\n",
       "      <td>4</td>\n",
       "      <td>...</td>\n",
       "      <td>58</td>\n",
       "      <td>51</td>\n",
       "      <td>15</td>\n",
       "      <td>13</td>\n",
       "      <td>5</td>\n",
       "      <td>10</td>\n",
       "      <td>13</td>\n",
       "      <td>102000000</td>\n",
       "      <td>1.80</td>\n",
       "      <td>69.85</td>\n",
       "    </tr>\n",
       "  </tbody>\n",
       "</table>\n",
       "<p>5 rows × 51 columns</p>\n",
       "</div>"
      ],
      "text/plain": [
       "   X  X               Name  Age Nationality  Overall  Potential  \\\n",
       "0  1  1           L. Messi   31   Argentina       94         94   \n",
       "1  2  2  Cristiano Ronaldo   33    Portugal       94         94   \n",
       "2  3  3          Neymar Jr   26      Brazil       92         93   \n",
       "3  4  4             De Gea   27       Spain       91         93   \n",
       "4  5  5       K. De Bruyne   27     Belgium       91         92   \n",
       "\n",
       "                  Club Preferred.Foot  International.Reputation  ...  \\\n",
       "0         FC Barcelona           Left                         5  ...   \n",
       "1             Juventus          Right                         5  ...   \n",
       "2  Paris Saint-Germain          Right                         5  ...   \n",
       "3    Manchester United          Right                         4  ...   \n",
       "4      Manchester City          Right                         4  ...   \n",
       "\n",
       "   StandingTackle  SlidingTackle GKDiving GKHandling  GKKicking  \\\n",
       "0              28             26        6         11         15   \n",
       "1              31             23        7         11         15   \n",
       "2              24             33        9          9         15   \n",
       "3              21             13       90         85         87   \n",
       "4              58             51       15         13          5   \n",
       "\n",
       "   GKPositioning  GKReflexes      Valor  Estatura  PesoKgs  \n",
       "0             14           8  110500000      1.70    72.12  \n",
       "1             14          11   77000000      1.88    83.01  \n",
       "2             15          11  118500000      1.75    68.04  \n",
       "3             88          94   72000000      1.93    76.20  \n",
       "4             10          13  102000000      1.80    69.85  \n",
       "\n",
       "[5 rows x 51 columns]"
      ]
     },
     "execution_count": 50,
     "metadata": {},
     "output_type": "execute_result"
    }
   ],
   "source": [
    "datos.describe()\n",
    "datos[['Estatura', 'PesoKgs']].describe()\n",
    "datos.head()"
   ]
  },
  {
   "cell_type": "markdown",
   "metadata": {},
   "source": [
    "## Renombrar columnas"
   ]
  },
  {
   "cell_type": "code",
   "execution_count": 4,
   "metadata": {},
   "outputs": [
    {
     "data": {
      "text/plain": [
       "Index(['X', 'X', 'Name', 'Age', 'Nationality', 'Overall', 'Potential', 'Club',\n",
       "       'Preferred.Foot', 'International.Reputation', 'Weak.Foot',\n",
       "       'Skill.Moves', 'Height', 'Weight', 'Crossing', 'Finishing',\n",
       "       'HeadingAccuracy', 'ShortPassing', 'Volleys', 'Dribbling', 'Curve',\n",
       "       'FKAccuracy', 'LongPassing', 'BallControl', 'Acceleration',\n",
       "       'SprintSpeed', 'Agility', 'Reactions', 'Balance', 'ShotPower',\n",
       "       'Jumping', 'Stamina', 'Strength', 'LongShots', 'Aggression',\n",
       "       'Interceptions', 'Positioning', 'Vision', 'Penalties', 'Composure',\n",
       "       'Marking', 'StandingTackle', 'SlidingTackle', 'GKDiving', 'GKHandling',\n",
       "       'GKKicking', 'GKPositioning', 'GKReflexes', 'Valor', 'Estatura',\n",
       "       'PesoKgs'],\n",
       "      dtype='object')"
      ]
     },
     "execution_count": 4,
     "metadata": {},
     "output_type": "execute_result"
    }
   ],
   "source": [
    "datos.columns\n",
    "datos = datos.rename(columns={'Unnamed: 0':'X'})\n",
    "datos.columns"
   ]
  },
  {
   "cell_type": "markdown",
   "metadata": {},
   "source": [
    "## Datos de entrenamiento y validación"
   ]
  },
  {
   "cell_type": "code",
   "execution_count": 5,
   "metadata": {},
   "outputs": [
    {
     "name": "stdout",
     "output_type": "stream",
     "text": [
      "Estatura:\n",
      "[[1.7 ]\n",
      " [1.88]\n",
      " [1.75]\n",
      " ...\n",
      " [1.73]\n",
      " [1.78]\n",
      " [1.78]]\n",
      "PesoKgs:\n",
      "[[72.12]\n",
      " [83.01]\n",
      " [68.04]\n",
      " ...\n",
      " [67.13]\n",
      " [69.85]\n",
      " [79.83]]\n"
     ]
    }
   ],
   "source": [
    "estatura = datos.loc[:, 'Estatura'].values\n",
    "pesokgs = datos.loc[:, 'PesoKgs'].values\n",
    "\n",
    "# estatura = datos[['Estatura']].reshape(-1, 1)\n",
    "estatura = estatura.reshape(-1, 1)\n",
    "pesokgs = pesokgs.reshape(-1, 1)\n",
    "\n",
    "estatura = datos[['Estatura']].to_numpy()\n",
    "pesokgs = datos[['PesoKgs']].to_numpy()\n",
    "\n",
    "print(f\"Estatura:\\n{estatura}\\nPesoKgs:\\n{pesokgs}\")"
   ]
  },
  {
   "cell_type": "markdown",
   "metadata": {},
   "source": [
    "### Test"
   ]
  },
  {
   "cell_type": "code",
   "execution_count": 6,
   "metadata": {},
   "outputs": [
    {
     "data": {
      "text/plain": [
       "array([[1.85],\n",
       "       [1.93],\n",
       "       [1.85],\n",
       "       ...,\n",
       "       [1.83],\n",
       "       [1.75],\n",
       "       [1.78]])"
      ]
     },
     "execution_count": 6,
     "metadata": {},
     "output_type": "execute_result"
    }
   ],
   "source": [
    "estatura_train, estatura_test, pesokgs_train, pesokgs_test = train_test_split(estatura, pesokgs, test_size=0.3, random_state=2022)\n",
    "estatura_train"
   ]
  },
  {
   "cell_type": "markdown",
   "metadata": {},
   "source": [
    "## Dispersión de datos"
   ]
  },
  {
   "cell_type": "code",
   "execution_count": 8,
   "metadata": {},
   "outputs": [
    {
     "data": {
      "text/plain": [
       "[<matplotlib.lines.Line2D at 0x2131416f760>]"
      ]
     },
     "execution_count": 8,
     "metadata": {},
     "output_type": "execute_result"
    },
    {
     "data": {
      "image/png": "[encoded data removed]",
      "text/plain": [
       "<Figure size 432x288 with 1 Axes>"
      ]
     },
     "metadata": {
      "needs_background": "light"
     },
     "output_type": "display_data"
    }
   ],
   "source": [
    "linea_tendencia = modelo.predict(estatura_train)\n",
    "plt.plot(estatura_train, pesokgs_train, 'o', color= 'blue')\n",
    "plt.plot(estatura_train, linea_tendencia, color=\"red\")"
   ]
  },
  {
   "cell_type": "markdown",
   "metadata": {},
   "source": [
    "## Modelo de regresión lineal"
   ]
  },
  {
   "cell_type": "code",
   "execution_count": 23,
   "metadata": {},
   "outputs": [
    {
     "data": {
      "text/html": [
       "<style>#sk-container-id-3 {color: black;background-color: white;}#sk-container-id-3 pre{padding: 0;}#sk-container-id-3 div.sk-toggleable {background-color: white;}#sk-container-id-3 label.sk-toggleable__label {cursor: pointer;display: block;width: 100%;margin-bottom: 0;padding: 0.3em;box-sizing: border-box;text-align: center;}#sk-container-id-3 label.sk-toggleable__label-arrow:before {content: \"▸\";float: left;margin-right: 0.25em;color: #696969;}#sk-container-id-3 label.sk-toggleable__label-arrow:hover:before {color: black;}#sk-container-id-3 div.sk-estimator:hover label.sk-toggleable__label-arrow:before {color: black;}#sk-container-id-3 div.sk-toggleable__content {max-height: 0;max-width: 0;overflow: hidden;text-align: left;background-color: #f0f8ff;}#sk-container-id-3 div.sk-toggleable__content pre {margin: 0.2em;color: black;border-radius: 0.25em;background-color: #f0f8ff;}#sk-container-id-3 input.sk-toggleable__control:checked~div.sk-toggleable__content {max-height: 200px;max-width: 100%;overflow: auto;}#sk-container-id-3 input.sk-toggleable__control:checked~label.sk-toggleable__label-arrow:before {content: \"▾\";}#sk-container-id-3 div.sk-estimator input.sk-toggleable__control:checked~label.sk-toggleable__label {background-color: #d4ebff;}#sk-container-id-3 div.sk-label input.sk-toggleable__control:checked~label.sk-toggleable__label {background-color: #d4ebff;}#sk-container-id-3 input.sk-hidden--visually {border: 0;clip: rect(1px 1px 1px 1px);clip: rect(1px, 1px, 1px, 1px);height: 1px;margin: -1px;overflow: hidden;padding: 0;position: absolute;width: 1px;}#sk-container-id-3 div.sk-estimator {font-family: monospace;background-color: #f0f8ff;border: 1px dotted black;border-radius: 0.25em;box-sizing: border-box;margin-bottom: 0.5em;}#sk-container-id-3 div.sk-estimator:hover {background-color: #d4ebff;}#sk-container-id-3 div.sk-parallel-item::after {content: \"\";width: 100%;border-bottom: 1px solid gray;flex-grow: 1;}#sk-container-id-3 div.sk-label:hover label.sk-toggleable__label {background-color: #d4ebff;}#sk-container-id-3 div.sk-serial::before {content: \"\";position: absolute;border-left: 1px solid gray;box-sizing: border-box;top: 0;bottom: 0;left: 50%;z-index: 0;}#sk-container-id-3 div.sk-serial {display: flex;flex-direction: column;align-items: center;background-color: white;padding-right: 0.2em;padding-left: 0.2em;position: relative;}#sk-container-id-3 div.sk-item {position: relative;z-index: 1;}#sk-container-id-3 div.sk-parallel {display: flex;align-items: stretch;justify-content: center;background-color: white;position: relative;}#sk-container-id-3 div.sk-item::before, #sk-container-id-3 div.sk-parallel-item::before {content: \"\";position: absolute;border-left: 1px solid gray;box-sizing: border-box;top: 0;bottom: 0;left: 50%;z-index: -1;}#sk-container-id-3 div.sk-parallel-item {display: flex;flex-direction: column;z-index: 1;position: relative;background-color: white;}#sk-container-id-3 div.sk-parallel-item:first-child::after {align-self: flex-end;width: 50%;}#sk-container-id-3 div.sk-parallel-item:last-child::after {align-self: flex-start;width: 50%;}#sk-container-id-3 div.sk-parallel-item:only-child::after {width: 0;}#sk-container-id-3 div.sk-dashed-wrapped {border: 1px dashed gray;margin: 0 0.4em 0.5em 0.4em;box-sizing: border-box;padding-bottom: 0.4em;background-color: white;}#sk-container-id-3 div.sk-label label {font-family: monospace;font-weight: bold;display: inline-block;line-height: 1.2em;}#sk-container-id-3 div.sk-label-container {text-align: center;}#sk-container-id-3 div.sk-container {/* jupyter's `normalize.less` sets `[hidden] { display: none; }` but bootstrap.min.css set `[hidden] { display: none !important; }` so we also need the `!important` here to be able to override the default hidden behavior on the sphinx rendered scikit-learn.org. See: https://github.com/scikit-learn/scikit-learn/issues/21755 */display: inline-block !important;position: relative;}#sk-container-id-3 div.sk-text-repr-fallback {display: none;}</style><div id=\"sk-container-id-3\" class=\"sk-top-container\"><div class=\"sk-text-repr-fallback\"><pre>LinearRegression()</pre><b>In a Jupyter environment, please rerun this cell to show the HTML representation or trust the notebook. <br />On GitHub, the HTML representation is unable to render, please try loading this page with nbviewer.org.</b></div><div class=\"sk-container\" hidden><div class=\"sk-item\"><div class=\"sk-estimator sk-toggleable\"><input class=\"sk-toggleable__control sk-hidden--visually\" id=\"sk-estimator-id-3\" type=\"checkbox\" checked><label for=\"sk-estimator-id-3\" class=\"sk-toggleable__label sk-toggleable__label-arrow\">LinearRegression</label><div class=\"sk-toggleable__content\"><pre>LinearRegression()</pre></div></div></div></div></div>"
      ],
      "text/plain": [
       "LinearRegression()"
      ]
     },
     "execution_count": 23,
     "metadata": {},
     "output_type": "execute_result"
    }
   ],
   "source": [
    "modelo = LinearRegression()\n",
    "modelo.fit(estatura_train, pesokgs_train)"
   ]
  },
  {
   "cell_type": "markdown",
   "metadata": {},
   "source": [
    "## Coeficientes"
   ]
  },
  {
   "cell_type": "code",
   "execution_count": 24,
   "metadata": {},
   "outputs": [
    {
     "name": "stdout",
     "output_type": "stream",
     "text": [
      "Valor de a:  [-67.50986539]\n",
      "Valor de b;  [[78.78539487]]\n"
     ]
    }
   ],
   "source": [
    "a = modelo.intercept_\n",
    "b = modelo.coef_\n",
    "\n",
    "print(\"Valor de a: \", a)\n",
    "print(\"Valor de b; \", b)"
   ]
  },
  {
   "cell_type": "markdown",
   "metadata": {},
   "source": [
    "## Predicciones"
   ]
  },
  {
   "cell_type": "code",
   "execution_count": 10,
   "metadata": {},
   "outputs": [
    {
     "data": {
      "text/plain": [
       "array([[66.22],\n",
       "       [77.11],\n",
       "       [73.03],\n",
       "       ...,\n",
       "       [83.01],\n",
       "       [79.83],\n",
       "       [67.13]])"
      ]
     },
     "execution_count": 10,
     "metadata": {},
     "output_type": "execute_result"
    }
   ],
   "source": [
    "predicciones = modelo.predict(estatura_test)\n",
    "predicciones\n",
    "\n",
    "pesokgs_test"
   ]
  },
  {
   "cell_type": "markdown",
   "metadata": {},
   "source": [
    "## Dataframe \"comparaciones\""
   ]
  },
  {
   "cell_type": "code",
   "execution_count": 11,
   "metadata": {},
   "outputs": [
    {
     "data": {
      "text/html": [
       "<div>\n",
       "<style scoped>\n",
       "    .dataframe tbody tr th:only-of-type {\n",
       "        vertical-align: middle;\n",
       "    }\n",
       "\n",
       "    .dataframe tbody tr th {\n",
       "        vertical-align: top;\n",
       "    }\n",
       "\n",
       "    .dataframe thead th {\n",
       "        text-align: right;\n",
       "    }\n",
       "</style>\n",
       "<table border=\"1\" class=\"dataframe\">\n",
       "  <thead>\n",
       "    <tr style=\"text-align: right;\">\n",
       "      <th></th>\n",
       "      <th>Estatura</th>\n",
       "      <th>Real</th>\n",
       "      <th>Predicho</th>\n",
       "    </tr>\n",
       "  </thead>\n",
       "  <tbody>\n",
       "    <tr>\n",
       "      <th>5353</th>\n",
       "      <td>1.93</td>\n",
       "      <td>79.83</td>\n",
       "      <td>84.545947</td>\n",
       "    </tr>\n",
       "    <tr>\n",
       "      <th>5354</th>\n",
       "      <td>1.93</td>\n",
       "      <td>86.18</td>\n",
       "      <td>84.545947</td>\n",
       "    </tr>\n",
       "    <tr>\n",
       "      <th>5355</th>\n",
       "      <td>1.85</td>\n",
       "      <td>78.02</td>\n",
       "      <td>78.243115</td>\n",
       "    </tr>\n",
       "    <tr>\n",
       "      <th>5356</th>\n",
       "      <td>1.75</td>\n",
       "      <td>73.94</td>\n",
       "      <td>70.364576</td>\n",
       "    </tr>\n",
       "    <tr>\n",
       "      <th>5357</th>\n",
       "      <td>1.91</td>\n",
       "      <td>79.83</td>\n",
       "      <td>82.970239</td>\n",
       "    </tr>\n",
       "    <tr>\n",
       "      <th>5358</th>\n",
       "      <td>1.83</td>\n",
       "      <td>78.93</td>\n",
       "      <td>76.667407</td>\n",
       "    </tr>\n",
       "    <tr>\n",
       "      <th>5359</th>\n",
       "      <td>1.78</td>\n",
       "      <td>72.12</td>\n",
       "      <td>72.728137</td>\n",
       "    </tr>\n",
       "    <tr>\n",
       "      <th>5360</th>\n",
       "      <td>1.91</td>\n",
       "      <td>82.10</td>\n",
       "      <td>82.970239</td>\n",
       "    </tr>\n",
       "    <tr>\n",
       "      <th>5361</th>\n",
       "      <td>1.93</td>\n",
       "      <td>91.17</td>\n",
       "      <td>84.545947</td>\n",
       "    </tr>\n",
       "    <tr>\n",
       "      <th>5362</th>\n",
       "      <td>1.78</td>\n",
       "      <td>78.02</td>\n",
       "      <td>72.728137</td>\n",
       "    </tr>\n",
       "    <tr>\n",
       "      <th>5363</th>\n",
       "      <td>1.78</td>\n",
       "      <td>71.21</td>\n",
       "      <td>72.728137</td>\n",
       "    </tr>\n",
       "    <tr>\n",
       "      <th>5364</th>\n",
       "      <td>1.75</td>\n",
       "      <td>73.03</td>\n",
       "      <td>70.364576</td>\n",
       "    </tr>\n",
       "    <tr>\n",
       "      <th>5365</th>\n",
       "      <td>1.83</td>\n",
       "      <td>69.85</td>\n",
       "      <td>76.667407</td>\n",
       "    </tr>\n",
       "    <tr>\n",
       "      <th>5366</th>\n",
       "      <td>1.91</td>\n",
       "      <td>83.01</td>\n",
       "      <td>82.970239</td>\n",
       "    </tr>\n",
       "    <tr>\n",
       "      <th>5367</th>\n",
       "      <td>1.88</td>\n",
       "      <td>79.83</td>\n",
       "      <td>80.606677</td>\n",
       "    </tr>\n",
       "    <tr>\n",
       "      <th>5368</th>\n",
       "      <td>1.88</td>\n",
       "      <td>83.01</td>\n",
       "      <td>80.606677</td>\n",
       "    </tr>\n",
       "    <tr>\n",
       "      <th>5369</th>\n",
       "      <td>1.88</td>\n",
       "      <td>74.84</td>\n",
       "      <td>80.606677</td>\n",
       "    </tr>\n",
       "    <tr>\n",
       "      <th>5370</th>\n",
       "      <td>1.88</td>\n",
       "      <td>83.01</td>\n",
       "      <td>80.606677</td>\n",
       "    </tr>\n",
       "    <tr>\n",
       "      <th>5371</th>\n",
       "      <td>1.88</td>\n",
       "      <td>79.83</td>\n",
       "      <td>80.606677</td>\n",
       "    </tr>\n",
       "    <tr>\n",
       "      <th>5372</th>\n",
       "      <td>1.78</td>\n",
       "      <td>67.13</td>\n",
       "      <td>72.728137</td>\n",
       "    </tr>\n",
       "  </tbody>\n",
       "</table>\n",
       "</div>"
      ],
      "text/plain": [
       "      Estatura   Real   Predicho\n",
       "5353      1.93  79.83  84.545947\n",
       "5354      1.93  86.18  84.545947\n",
       "5355      1.85  78.02  78.243115\n",
       "5356      1.75  73.94  70.364576\n",
       "5357      1.91  79.83  82.970239\n",
       "5358      1.83  78.93  76.667407\n",
       "5359      1.78  72.12  72.728137\n",
       "5360      1.91  82.10  82.970239\n",
       "5361      1.93  91.17  84.545947\n",
       "5362      1.78  78.02  72.728137\n",
       "5363      1.78  71.21  72.728137\n",
       "5364      1.75  73.03  70.364576\n",
       "5365      1.83  69.85  76.667407\n",
       "5366      1.91  83.01  82.970239\n",
       "5367      1.88  79.83  80.606677\n",
       "5368      1.88  83.01  80.606677\n",
       "5369      1.88  74.84  80.606677\n",
       "5370      1.88  83.01  80.606677\n",
       "5371      1.88  79.83  80.606677\n",
       "5372      1.78  67.13  72.728137"
      ]
     },
     "execution_count": 11,
     "metadata": {},
     "output_type": "execute_result"
    }
   ],
   "source": [
    "diccionario = {'Estatura': estatura_test.flatten().tolist(),\n",
    "                'Real' : pesokgs_test.flatten().tolist(), \n",
    "               'Predicho' : predicciones.flatten().tolist()}\n",
    "# diccionario\n",
    "\n",
    "comparaciones = pd.DataFrame(diccionario)\n",
    "comparaciones.head(20)\n",
    "comparaciones.tail(20)"
   ]
  },
  {
   "cell_type": "markdown",
   "metadata": {},
   "source": [
    "## Evaluación del modelo"
   ]
  },
  {
   "cell_type": "code",
   "execution_count": 12,
   "metadata": {},
   "outputs": [
    {
     "name": "stdout",
     "output_type": "stream",
     "text": [
      "Mean Absolute Error: MAE 3.632652042179122\n",
      "Mean Squared Error: MSE 21.813749730525867\n",
      "Root Mean Squared Error RMSE: 4.670519214233667\n",
      "Multiple R Square : 0.5681\n"
     ]
    }
   ],
   "source": [
    "print('Mean Absolute Error: MAE', metrics.mean_absolute_error(pesokgs_test, predicciones))\n",
    "print('Mean Squared Error: MSE', metrics.mean_squared_error(pesokgs_test, predicciones))\n",
    "print('Root Mean Squared Error RMSE:', np.sqrt(metrics.mean_squared_error(pesokgs_test, predicciones)))\n",
    "\n",
    "r = np.corrcoef(estatura_train.flatten().tolist(), pesokgs_train.flatten().tolist())\n",
    "r = r ** 2\n",
    "r = r.reshape(-1,2)\n",
    "r = r[0, 1]\n",
    "print('Multiple R Square :', np.round(r, 4) )"
   ]
  },
  {
   "cell_type": "markdown",
   "metadata": {},
   "source": [
    "# Apreciación personal e Interpretación\n",
    "## Descripción\n",
    "Esta apreciación valorará la reputación internacional de los jugadores contra el valor que estos tengan en el mercado."
   ]
  },
  {
   "cell_type": "markdown",
   "metadata": {},
   "source": [
    "## Datos de entrenamiento y validación"
   ]
  },
  {
   "cell_type": "code",
   "execution_count": 22,
   "metadata": {},
   "outputs": [
    {
     "name": "stdout",
     "output_type": "stream",
     "text": [
      "International.Reputation:\n",
      "[[5]\n",
      " [5]\n",
      " [5]\n",
      " ...\n",
      " [1]\n",
      " [1]\n",
      " [1]]\n",
      "Valor:\n",
      "[[110500000]\n",
      " [ 77000000]\n",
      " [118500000]\n",
      " ...\n",
      " [    60000]\n",
      " [    60000]\n",
      " [    60000]]\n"
     ]
    }
   ],
   "source": [
    "repInt = datos.loc[:, 'International.Reputation'].values\n",
    "valor = datos.loc[:, 'Valor'].values\n",
    "\n",
    "# estatura = datos[['Estatura']].reshape(-1, 1)\n",
    "repInt = repInt.reshape(-1, 1)\n",
    "valor = valor.reshape(-1, 1)\n",
    "\n",
    "repInt = datos[['International.Reputation']].to_numpy()\n",
    "valor = datos[['Valor']].to_numpy()\n",
    "print(f\"International.Reputation:\\n{repInt}\\nValor:\\n{valor}\")\n"
   ]
  },
  {
   "cell_type": "markdown",
   "metadata": {},
   "source": [
    "### Test"
   ]
  },
  {
   "cell_type": "code",
   "execution_count": 32,
   "metadata": {},
   "outputs": [
    {
     "data": {
      "text/plain": [
       "array([[3900000],\n",
       "       [2400000],\n",
       "       [ 975000],\n",
       "       ...,\n",
       "       [1400000],\n",
       "       [  90000],\n",
       "       [7500000]], dtype=int64)"
      ]
     },
     "execution_count": 32,
     "metadata": {},
     "output_type": "execute_result"
    }
   ],
   "source": [
    "repInt_train, repInt_test, valor_train, valor_test = train_test_split(repInt, valor, random_state=2022)\n",
    "repInt_train\n",
    "valor_train"
   ]
  },
  {
   "cell_type": "markdown",
   "metadata": {},
   "source": [
    "## Dispersión de datos"
   ]
  },
  {
   "cell_type": "code",
   "execution_count": 34,
   "metadata": {},
   "outputs": [
    {
     "data": {
      "text/plain": [
       "[<matplotlib.lines.Line2D at 0x2131637dd50>]"
      ]
     },
     "execution_count": 34,
     "metadata": {},
     "output_type": "execute_result"
    },
    {
     "data": {
      "image/png": "[encoded data removed]",
      "text/plain": [
       "<Figure size 432x288 with 1 Axes>"
      ]
     },
     "metadata": {
      "needs_background": "light"
     },
     "output_type": "display_data"
    }
   ],
   "source": [
    "linea_tendencia = modelo.predict(repInt_train)\n",
    "plt.plot(repInt_train, valor_train, 'o', color= 'blue')\n",
    "plt.plot(repInt_train, linea_tendencia, color=\"red\")"
   ]
  },
  {
   "cell_type": "markdown",
   "metadata": {},
   "source": [
    "Primero que nada, quiero hacer la observación de que el eje de las y está representado en notación científica 1e8, siendo la escala de 1:100 millones, donde 1 representa 100 millones 0.1:10 millones y así respectivamente.\n",
    "Como podemos observar, los jugadores con reputación internacional de 1, no pasan del máximo de 40 millones de dólares en el mercado, mientras que de los pocos que jugadores con reputación internacional de 5, la mayoría supera los ~70 millones de dólares. Esto hace que la línea de tendencia del modelo esté inclinada y conforme avance esta suba en el eje y. Osea, mientras más reputación internacional, se podría decir que el valor en el mercado mejora."
   ]
  },
  {
   "cell_type": "markdown",
   "metadata": {},
   "source": [
    "## Modelo de regresión lineal"
   ]
  },
  {
   "cell_type": "code",
   "execution_count": 25,
   "metadata": {},
   "outputs": [
    {
     "data": {
      "text/html": [
       "<style>#sk-container-id-4 {color: black;background-color: white;}#sk-container-id-4 pre{padding: 0;}#sk-container-id-4 div.sk-toggleable {background-color: white;}#sk-container-id-4 label.sk-toggleable__label {cursor: pointer;display: block;width: 100%;margin-bottom: 0;padding: 0.3em;box-sizing: border-box;text-align: center;}#sk-container-id-4 label.sk-toggleable__label-arrow:before {content: \"▸\";float: left;margin-right: 0.25em;color: #696969;}#sk-container-id-4 label.sk-toggleable__label-arrow:hover:before {color: black;}#sk-container-id-4 div.sk-estimator:hover label.sk-toggleable__label-arrow:before {color: black;}#sk-container-id-4 div.sk-toggleable__content {max-height: 0;max-width: 0;overflow: hidden;text-align: left;background-color: #f0f8ff;}#sk-container-id-4 div.sk-toggleable__content pre {margin: 0.2em;color: black;border-radius: 0.25em;background-color: #f0f8ff;}#sk-container-id-4 input.sk-toggleable__control:checked~div.sk-toggleable__content {max-height: 200px;max-width: 100%;overflow: auto;}#sk-container-id-4 input.sk-toggleable__control:checked~label.sk-toggleable__label-arrow:before {content: \"▾\";}#sk-container-id-4 div.sk-estimator input.sk-toggleable__control:checked~label.sk-toggleable__label {background-color: #d4ebff;}#sk-container-id-4 div.sk-label input.sk-toggleable__control:checked~label.sk-toggleable__label {background-color: #d4ebff;}#sk-container-id-4 input.sk-hidden--visually {border: 0;clip: rect(1px 1px 1px 1px);clip: rect(1px, 1px, 1px, 1px);height: 1px;margin: -1px;overflow: hidden;padding: 0;position: absolute;width: 1px;}#sk-container-id-4 div.sk-estimator {font-family: monospace;background-color: #f0f8ff;border: 1px dotted black;border-radius: 0.25em;box-sizing: border-box;margin-bottom: 0.5em;}#sk-container-id-4 div.sk-estimator:hover {background-color: #d4ebff;}#sk-container-id-4 div.sk-parallel-item::after {content: \"\";width: 100%;border-bottom: 1px solid gray;flex-grow: 1;}#sk-container-id-4 div.sk-label:hover label.sk-toggleable__label {background-color: #d4ebff;}#sk-container-id-4 div.sk-serial::before {content: \"\";position: absolute;border-left: 1px solid gray;box-sizing: border-box;top: 0;bottom: 0;left: 50%;z-index: 0;}#sk-container-id-4 div.sk-serial {display: flex;flex-direction: column;align-items: center;background-color: white;padding-right: 0.2em;padding-left: 0.2em;position: relative;}#sk-container-id-4 div.sk-item {position: relative;z-index: 1;}#sk-container-id-4 div.sk-parallel {display: flex;align-items: stretch;justify-content: center;background-color: white;position: relative;}#sk-container-id-4 div.sk-item::before, #sk-container-id-4 div.sk-parallel-item::before {content: \"\";position: absolute;border-left: 1px solid gray;box-sizing: border-box;top: 0;bottom: 0;left: 50%;z-index: -1;}#sk-container-id-4 div.sk-parallel-item {display: flex;flex-direction: column;z-index: 1;position: relative;background-color: white;}#sk-container-id-4 div.sk-parallel-item:first-child::after {align-self: flex-end;width: 50%;}#sk-container-id-4 div.sk-parallel-item:last-child::after {align-self: flex-start;width: 50%;}#sk-container-id-4 div.sk-parallel-item:only-child::after {width: 0;}#sk-container-id-4 div.sk-dashed-wrapped {border: 1px dashed gray;margin: 0 0.4em 0.5em 0.4em;box-sizing: border-box;padding-bottom: 0.4em;background-color: white;}#sk-container-id-4 div.sk-label label {font-family: monospace;font-weight: bold;display: inline-block;line-height: 1.2em;}#sk-container-id-4 div.sk-label-container {text-align: center;}#sk-container-id-4 div.sk-container {/* jupyter's `normalize.less` sets `[hidden] { display: none; }` but bootstrap.min.css set `[hidden] { display: none !important; }` so we also need the `!important` here to be able to override the default hidden behavior on the sphinx rendered scikit-learn.org. See: https://github.com/scikit-learn/scikit-learn/issues/21755 */display: inline-block !important;position: relative;}#sk-container-id-4 div.sk-text-repr-fallback {display: none;}</style><div id=\"sk-container-id-4\" class=\"sk-top-container\"><div class=\"sk-text-repr-fallback\"><pre>LinearRegression()</pre><b>In a Jupyter environment, please rerun this cell to show the HTML representation or trust the notebook. <br />On GitHub, the HTML representation is unable to render, please try loading this page with nbviewer.org.</b></div><div class=\"sk-container\" hidden><div class=\"sk-item\"><div class=\"sk-estimator sk-toggleable\"><input class=\"sk-toggleable__control sk-hidden--visually\" id=\"sk-estimator-id-4\" type=\"checkbox\" checked><label for=\"sk-estimator-id-4\" class=\"sk-toggleable__label sk-toggleable__label-arrow\">LinearRegression</label><div class=\"sk-toggleable__content\"><pre>LinearRegression()</pre></div></div></div></div></div>"
      ],
      "text/plain": [
       "LinearRegression()"
      ]
     },
     "execution_count": 25,
     "metadata": {},
     "output_type": "execute_result"
    }
   ],
   "source": [
    "modelo = LinearRegression()\n",
    "modelo.fit(repInt_train, valor_train)"
   ]
  },
  {
   "cell_type": "markdown",
   "metadata": {},
   "source": [
    "## Coeficientes"
   ]
  },
  {
   "cell_type": "code",
   "execution_count": 26,
   "metadata": {},
   "outputs": [
    {
     "name": "stdout",
     "output_type": "stream",
     "text": [
      "Valor de a:  [-7742851.64868717]\n",
      "Valor de b;  [[9137938.50035913]]\n"
     ]
    }
   ],
   "source": [
    "a = modelo.intercept_\n",
    "b = modelo.coef_\n",
    "\n",
    "print(\"Valor de a: \", a)\n",
    "print(\"Valor de b; \", b)"
   ]
  },
  {
   "cell_type": "markdown",
   "metadata": {},
   "source": [
    "## Predicciones"
   ]
  },
  {
   "cell_type": "code",
   "execution_count": 28,
   "metadata": {},
   "outputs": [
    {
     "data": {
      "text/plain": [
       "array([[ 270000],\n",
       "       [7500000],\n",
       "       [1600000],\n",
       "       ...,\n",
       "       [ 375000],\n",
       "       [1000000],\n",
       "       [3100000]], dtype=int64)"
      ]
     },
     "execution_count": 28,
     "metadata": {},
     "output_type": "execute_result"
    }
   ],
   "source": [
    "predicciones = modelo.predict(repInt_test)\n",
    "predicciones\n",
    "\n",
    "valor_test"
   ]
  },
  {
   "cell_type": "markdown",
   "metadata": {},
   "source": [
    "## Dataframe \"comparaciones\""
   ]
  },
  {
   "cell_type": "code",
   "execution_count": 48,
   "metadata": {},
   "outputs": [
    {
     "data": {
      "text/html": [
       "<div>\n",
       "<style scoped>\n",
       "    .dataframe tbody tr th:only-of-type {\n",
       "        vertical-align: middle;\n",
       "    }\n",
       "\n",
       "    .dataframe tbody tr th {\n",
       "        vertical-align: top;\n",
       "    }\n",
       "\n",
       "    .dataframe thead th {\n",
       "        text-align: right;\n",
       "    }\n",
       "</style>\n",
       "<table border=\"1\" class=\"dataframe\">\n",
       "  <thead>\n",
       "    <tr style=\"text-align: right;\">\n",
       "      <th></th>\n",
       "      <th>Predicho</th>\n",
       "    </tr>\n",
       "    <tr>\n",
       "      <th>RepInt</th>\n",
       "      <th></th>\n",
       "    </tr>\n",
       "  </thead>\n",
       "  <tbody>\n",
       "    <tr>\n",
       "      <th>5</th>\n",
       "      <td>3.794684e+07</td>\n",
       "    </tr>\n",
       "    <tr>\n",
       "      <th>4</th>\n",
       "      <td>2.880890e+07</td>\n",
       "    </tr>\n",
       "    <tr>\n",
       "      <th>3</th>\n",
       "      <td>1.967096e+07</td>\n",
       "    </tr>\n",
       "    <tr>\n",
       "      <th>2</th>\n",
       "      <td>1.053303e+07</td>\n",
       "    </tr>\n",
       "    <tr>\n",
       "      <th>1</th>\n",
       "      <td>1.395087e+06</td>\n",
       "    </tr>\n",
       "  </tbody>\n",
       "</table>\n",
       "</div>"
      ],
      "text/plain": [
       "            Predicho\n",
       "RepInt              \n",
       "5       3.794684e+07\n",
       "4       2.880890e+07\n",
       "3       1.967096e+07\n",
       "2       1.053303e+07\n",
       "1       1.395087e+06"
      ]
     },
     "execution_count": 48,
     "metadata": {},
     "output_type": "execute_result"
    }
   ],
   "source": [
    "diccionario = {'RepInt': repInt_test.flatten().tolist(),\n",
    "               'Predicho' : predicciones.flatten().tolist()}\n",
    "# diccionario\n",
    "\n",
    "comparaciones = pd.DataFrame(diccionario)\n",
    "comparaciones.groupby([\"RepInt\"]).mean().sort_values(by=[\"RepInt\"], ascending=False).head(10)"
   ]
  },
  {
   "cell_type": "markdown",
   "metadata": {},
   "source": [
    "Como podemos observar, la diferencia enrre lo predicho según el modelo y la reputación internacional, es de aproximadamente ~0.914e+07, osea unos 9.14 millones. Donde, según lo predicho:"
   ]
  },
  {
   "cell_type": "markdown",
   "metadata": {},
   "source": [
    "5 ~= $37.94 Millones de dólares"
   ]
  },
  {
   "cell_type": "markdown",
   "metadata": {},
   "source": [
    "4 ~= $28.80 Millones de dólares"
   ]
  },
  {
   "cell_type": "markdown",
   "metadata": {},
   "source": [
    "3 ~= $19.67 Millones de dólares"
   ]
  },
  {
   "cell_type": "markdown",
   "metadata": {},
   "source": [
    "2 ~= $10.53 Millones de dólares"
   ]
  },
  {
   "cell_type": "markdown",
   "metadata": {},
   "source": [
    "1 ~= $1.39 Millones de dólares"
   ]
  },
  {
   "cell_type": "markdown",
   "metadata": {},
   "source": [
    "## Evaluación del modelo"
   ]
  },
  {
   "cell_type": "code",
   "execution_count": 31,
   "metadata": {},
   "outputs": [
    {
     "name": "stdout",
     "output_type": "stream",
     "text": [
      "Mean Absolute Error: MAE 2108509.0625953902\n",
      "Mean Squared Error: MSE 20485722065193.71\n",
      "Root Mean Squared Error RMSE: 4526115.560300434\n",
      "Multiple R Square : 0.429\n"
     ]
    }
   ],
   "source": [
    "print('Mean Absolute Error: MAE', metrics.mean_absolute_error(valor_test, predicciones))\n",
    "print('Mean Squared Error: MSE', metrics.mean_squared_error(valor_test, predicciones))\n",
    "print('Root Mean Squared Error RMSE:', np.sqrt(metrics.mean_squared_error(valor_test, predicciones)))\n",
    "\n",
    "r = np.corrcoef(repInt_train.flatten().tolist(), valor_train.flatten().tolist())\n",
    "r = r ** 2\n",
    "r = r.reshape(-1,2)\n",
    "r = r[0, 1]\n",
    "print('Multiple R Square :', np.round(r, 4) )"
   ]
  },
  {
   "cell_type": "markdown",
   "metadata": {},
   "source": [
    "Por último, podemos observar que el modelo tiene un 42.9% de certeza, un número bajo para cualquier métrica que se aplice a la hora de comprobarlo."
   ]
  }
 ],
 "metadata": {
  "kernelspec": {
   "display_name": "Python 3.10.0 ('.venv': venv)",
   "language": "python",
   "name": "python3"
  },
  "language_info": {
   "codemirror_mode": {
    "name": "ipython",
    "version": 3
   },
   "file_extension": ".py",
   "mimetype": "text/x-python",
   "name": "python",
   "nbconvert_exporter": "python",
   "pygments_lexer": "ipython3",
   "version": "3.10.0"
  },
  "orig_nbformat": 4,
  "vscode": {
   "interpreter": {
    "hash": "94a9a47cd63edf064273420544211dc39e24505107daed98145828c8244b81fc"
   }
  }
 },
 "nbformat": 4,
 "nbformat_minor": 2
}
