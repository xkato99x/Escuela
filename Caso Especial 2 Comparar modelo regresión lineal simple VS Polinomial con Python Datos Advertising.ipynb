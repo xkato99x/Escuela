{
 "cells": [
  {
   "cell_type": "markdown",
   "metadata": {},
   "source": [
    "# Librerías y csv"
   ]
  },
  {
   "cell_type": "code",
   "execution_count": 3,
   "metadata": {},
   "outputs": [
    {
     "data": {
      "text/html": [
       "<div>\n",
       "<style scoped>\n",
       "    .dataframe tbody tr th:only-of-type {\n",
       "        vertical-align: middle;\n",
       "    }\n",
       "\n",
       "    .dataframe tbody tr th {\n",
       "        vertical-align: top;\n",
       "    }\n",
       "\n",
       "    .dataframe thead th {\n",
       "        text-align: right;\n",
       "    }\n",
       "</style>\n",
       "<table border=\"1\" class=\"dataframe\">\n",
       "  <thead>\n",
       "    <tr style=\"text-align: right;\">\n",
       "      <th></th>\n",
       "      <th>Unnamed: 0</th>\n",
       "      <th>X</th>\n",
       "      <th>TV</th>\n",
       "      <th>Radio</th>\n",
       "      <th>Newspaper</th>\n",
       "      <th>Web</th>\n",
       "      <th>Sales</th>\n",
       "    </tr>\n",
       "  </thead>\n",
       "  <tbody>\n",
       "    <tr>\n",
       "      <th>0</th>\n",
       "      <td>1</td>\n",
       "      <td>1</td>\n",
       "      <td>230.1</td>\n",
       "      <td>37.8</td>\n",
       "      <td>69.2</td>\n",
       "      <td>306.634752</td>\n",
       "      <td>22.1</td>\n",
       "    </tr>\n",
       "    <tr>\n",
       "      <th>1</th>\n",
       "      <td>2</td>\n",
       "      <td>2</td>\n",
       "      <td>44.5</td>\n",
       "      <td>39.3</td>\n",
       "      <td>45.1</td>\n",
       "      <td>302.653070</td>\n",
       "      <td>10.4</td>\n",
       "    </tr>\n",
       "    <tr>\n",
       "      <th>2</th>\n",
       "      <td>3</td>\n",
       "      <td>3</td>\n",
       "      <td>17.2</td>\n",
       "      <td>45.9</td>\n",
       "      <td>69.3</td>\n",
       "      <td>49.498908</td>\n",
       "      <td>9.3</td>\n",
       "    </tr>\n",
       "    <tr>\n",
       "      <th>3</th>\n",
       "      <td>4</td>\n",
       "      <td>4</td>\n",
       "      <td>151.5</td>\n",
       "      <td>41.3</td>\n",
       "      <td>58.5</td>\n",
       "      <td>257.816893</td>\n",
       "      <td>18.5</td>\n",
       "    </tr>\n",
       "    <tr>\n",
       "      <th>4</th>\n",
       "      <td>5</td>\n",
       "      <td>5</td>\n",
       "      <td>180.8</td>\n",
       "      <td>10.8</td>\n",
       "      <td>58.4</td>\n",
       "      <td>195.660076</td>\n",
       "      <td>12.9</td>\n",
       "    </tr>\n",
       "    <tr>\n",
       "      <th>...</th>\n",
       "      <td>...</td>\n",
       "      <td>...</td>\n",
       "      <td>...</td>\n",
       "      <td>...</td>\n",
       "      <td>...</td>\n",
       "      <td>...</td>\n",
       "      <td>...</td>\n",
       "    </tr>\n",
       "    <tr>\n",
       "      <th>195</th>\n",
       "      <td>196</td>\n",
       "      <td>196</td>\n",
       "      <td>38.2</td>\n",
       "      <td>3.7</td>\n",
       "      <td>13.8</td>\n",
       "      <td>248.841073</td>\n",
       "      <td>7.6</td>\n",
       "    </tr>\n",
       "    <tr>\n",
       "      <th>196</th>\n",
       "      <td>197</td>\n",
       "      <td>197</td>\n",
       "      <td>94.2</td>\n",
       "      <td>4.9</td>\n",
       "      <td>8.1</td>\n",
       "      <td>118.041856</td>\n",
       "      <td>9.7</td>\n",
       "    </tr>\n",
       "    <tr>\n",
       "      <th>197</th>\n",
       "      <td>198</td>\n",
       "      <td>198</td>\n",
       "      <td>177.0</td>\n",
       "      <td>9.3</td>\n",
       "      <td>6.4</td>\n",
       "      <td>213.274671</td>\n",
       "      <td>12.8</td>\n",
       "    </tr>\n",
       "    <tr>\n",
       "      <th>198</th>\n",
       "      <td>199</td>\n",
       "      <td>199</td>\n",
       "      <td>283.6</td>\n",
       "      <td>42.0</td>\n",
       "      <td>66.2</td>\n",
       "      <td>237.498063</td>\n",
       "      <td>25.5</td>\n",
       "    </tr>\n",
       "    <tr>\n",
       "      <th>199</th>\n",
       "      <td>200</td>\n",
       "      <td>200</td>\n",
       "      <td>232.1</td>\n",
       "      <td>8.6</td>\n",
       "      <td>8.7</td>\n",
       "      <td>151.990733</td>\n",
       "      <td>13.4</td>\n",
       "    </tr>\n",
       "  </tbody>\n",
       "</table>\n",
       "<p>200 rows × 7 columns</p>\n",
       "</div>"
      ],
      "text/plain": [
       "     Unnamed: 0    X     TV  Radio  Newspaper         Web  Sales\n",
       "0             1    1  230.1   37.8       69.2  306.634752   22.1\n",
       "1             2    2   44.5   39.3       45.1  302.653070   10.4\n",
       "2             3    3   17.2   45.9       69.3   49.498908    9.3\n",
       "3             4    4  151.5   41.3       58.5  257.816893   18.5\n",
       "4             5    5  180.8   10.8       58.4  195.660076   12.9\n",
       "..          ...  ...    ...    ...        ...         ...    ...\n",
       "195         196  196   38.2    3.7       13.8  248.841073    7.6\n",
       "196         197  197   94.2    4.9        8.1  118.041856    9.7\n",
       "197         198  198  177.0    9.3        6.4  213.274671   12.8\n",
       "198         199  199  283.6   42.0       66.2  237.498063   25.5\n",
       "199         200  200  232.1    8.6        8.7  151.990733   13.4\n",
       "\n",
       "[200 rows x 7 columns]"
      ]
     },
     "execution_count": 3,
     "metadata": {},
     "output_type": "execute_result"
    }
   ],
   "source": [
    "import pandas as pd\n",
    "import matplotlib.pyplot as plt\n",
    "import numpy as np\n",
    "from sklearn import linear_model\n",
    "from sklearn.linear_model import LinearRegression\n",
    "from sklearn.preprocessing import PolynomialFeatures # Polinomial\n",
    "\n",
    "from sklearn.model_selection import train_test_split\n",
    "from sklearn import metrics\n",
    "from sklearn.metrics import mean_squared_error, r2_score\n",
    "\n",
    "datos = pd.read_csv(\"https://raw.githubusercontent.com/rpizarrog/Analisis-Inteligente-de-datos/main/datos/Advertising_Web.csv\", encoding='latin1')\n",
    "datos"
   ]
  },
  {
   "cell_type": "markdown",
   "metadata": {},
   "source": [
    "## Variable independiente y dependiente"
   ]
  },
  {
   "cell_type": "markdown",
   "metadata": {},
   "source": [
    "### TV"
   ]
  },
  {
   "cell_type": "code",
   "execution_count": 5,
   "metadata": {},
   "outputs": [
    {
     "data": {
      "text/plain": [
       "count    200.000000\n",
       "mean     147.042500\n",
       "std       85.854236\n",
       "min        0.700000\n",
       "25%       74.375000\n",
       "50%      149.750000\n",
       "75%      218.825000\n",
       "max      296.400000\n",
       "Name: TV, dtype: float64"
      ]
     },
     "execution_count": 5,
     "metadata": {},
     "output_type": "execute_result"
    }
   ],
   "source": [
    "datos['TV'].describe()"
   ]
  },
  {
   "cell_type": "markdown",
   "metadata": {},
   "source": [
    "### Sales"
   ]
  },
  {
   "cell_type": "code",
   "execution_count": 6,
   "metadata": {},
   "outputs": [
    {
     "data": {
      "text/plain": [
       "count    200.000000\n",
       "mean      14.022500\n",
       "std        5.217457\n",
       "min        1.600000\n",
       "25%       10.375000\n",
       "50%       12.900000\n",
       "75%       17.400000\n",
       "max       27.000000\n",
       "Name: Sales, dtype: float64"
      ]
     },
     "execution_count": 6,
     "metadata": {},
     "output_type": "execute_result"
    }
   ],
   "source": [
    "datos['Sales'].describe()"
   ]
  },
  {
   "cell_type": "markdown",
   "metadata": {},
   "source": [
    "## Visualizar la dispersión de los datos"
   ]
  },
  {
   "cell_type": "code",
   "execution_count": 7,
   "metadata": {},
   "outputs": [
    {
     "data": {
      "text/plain": [
       "[<matplotlib.lines.Line2D at 0x255a9672bc0>]"
      ]
     },
     "execution_count": 7,
     "metadata": {},
     "output_type": "execute_result"
    },
    {
     "data": {
      "image/png": "[encoded data removed]",
      "text/plain": [
       "<Figure size 432x288 with 1 Axes>"
      ]
     },
     "metadata": {
      "needs_background": "light"
     },
     "output_type": "display_data"
    }
   ],
   "source": [
    "plt.plot(datos['TV'], datos['Sales'], 'o', color= 'blue')"
   ]
  },
  {
   "cell_type": "markdown",
   "metadata": {},
   "source": [
    "## Construir Datos de entrenamiento y validación"
   ]
  },
  {
   "cell_type": "code",
   "execution_count": 25,
   "metadata": {},
   "outputs": [],
   "source": [
    "TV = datos[['TV']].to_numpy()\n",
    "Sales = datos[['Sales']].to_numpy()\n",
    "TV_train, TV_test, Sales_train, Sales_test = train_test_split(TV, Sales, test_size=0.2, random_state=2022)"
   ]
  },
  {
   "cell_type": "code",
   "execution_count": 26,
   "metadata": {},
   "outputs": [
    {
     "data": {
      "text/plain": [
       "(160, 1)"
      ]
     },
     "execution_count": 26,
     "metadata": {},
     "output_type": "execute_result"
    }
   ],
   "source": [
    "TV_train.shape"
   ]
  },
  {
   "cell_type": "code",
   "execution_count": 27,
   "metadata": {},
   "outputs": [
    {
     "data": {
      "text/plain": [
       "(40, 1)"
      ]
     },
     "execution_count": 27,
     "metadata": {},
     "output_type": "execute_result"
    }
   ],
   "source": [
    "TV_test.shape"
   ]
  },
  {
   "cell_type": "markdown",
   "metadata": {},
   "source": [
    "### Entrenamiento"
   ]
  },
  {
   "cell_type": "code",
   "execution_count": 28,
   "metadata": {},
   "outputs": [
    {
     "data": {
      "text/plain": [
       "array([[  8.4],\n",
       "       [215.4],\n",
       "       [ 76.4],\n",
       "       [273.7],\n",
       "       [225.8],\n",
       "       [112.9],\n",
       "       [177. ],\n",
       "       [ 85.7],\n",
       "       [ 69. ]])"
      ]
     },
     "execution_count": 28,
     "metadata": {},
     "output_type": "execute_result"
    }
   ],
   "source": [
    "TV_train[1:10]"
   ]
  },
  {
   "cell_type": "markdown",
   "metadata": {},
   "source": [
    "### Validación"
   ]
  },
  {
   "cell_type": "code",
   "execution_count": 30,
   "metadata": {},
   "outputs": [
    {
     "data": {
      "text/plain": [
       "array([[ 13.2],\n",
       "       [253.8],\n",
       "       [265.2],\n",
       "       [289.7],\n",
       "       [193.7],\n",
       "       [218.5],\n",
       "       [149.8],\n",
       "       [ 19.6],\n",
       "       [ 48.3]])"
      ]
     },
     "execution_count": 30,
     "metadata": {},
     "output_type": "execute_result"
    }
   ],
   "source": [
    "TV_test[1:10]"
   ]
  },
  {
   "cell_type": "markdown",
   "metadata": {},
   "source": [
    "# Modelo de regresión lineal simple"
   ]
  },
  {
   "cell_type": "code",
   "execution_count": 31,
   "metadata": {},
   "outputs": [
    {
     "data": {
      "text/html": [
       "<style>#sk-container-id-2 {color: black;background-color: white;}#sk-container-id-2 pre{padding: 0;}#sk-container-id-2 div.sk-toggleable {background-color: white;}#sk-container-id-2 label.sk-toggleable__label {cursor: pointer;display: block;width: 100%;margin-bottom: 0;padding: 0.3em;box-sizing: border-box;text-align: center;}#sk-container-id-2 label.sk-toggleable__label-arrow:before {content: \"▸\";float: left;margin-right: 0.25em;color: #696969;}#sk-container-id-2 label.sk-toggleable__label-arrow:hover:before {color: black;}#sk-container-id-2 div.sk-estimator:hover label.sk-toggleable__label-arrow:before {color: black;}#sk-container-id-2 div.sk-toggleable__content {max-height: 0;max-width: 0;overflow: hidden;text-align: left;background-color: #f0f8ff;}#sk-container-id-2 div.sk-toggleable__content pre {margin: 0.2em;color: black;border-radius: 0.25em;background-color: #f0f8ff;}#sk-container-id-2 input.sk-toggleable__control:checked~div.sk-toggleable__content {max-height: 200px;max-width: 100%;overflow: auto;}#sk-container-id-2 input.sk-toggleable__control:checked~label.sk-toggleable__label-arrow:before {content: \"▾\";}#sk-container-id-2 div.sk-estimator input.sk-toggleable__control:checked~label.sk-toggleable__label {background-color: #d4ebff;}#sk-container-id-2 div.sk-label input.sk-toggleable__control:checked~label.sk-toggleable__label {background-color: #d4ebff;}#sk-container-id-2 input.sk-hidden--visually {border: 0;clip: rect(1px 1px 1px 1px);clip: rect(1px, 1px, 1px, 1px);height: 1px;margin: -1px;overflow: hidden;padding: 0;position: absolute;width: 1px;}#sk-container-id-2 div.sk-estimator {font-family: monospace;background-color: #f0f8ff;border: 1px dotted black;border-radius: 0.25em;box-sizing: border-box;margin-bottom: 0.5em;}#sk-container-id-2 div.sk-estimator:hover {background-color: #d4ebff;}#sk-container-id-2 div.sk-parallel-item::after {content: \"\";width: 100%;border-bottom: 1px solid gray;flex-grow: 1;}#sk-container-id-2 div.sk-label:hover label.sk-toggleable__label {background-color: #d4ebff;}#sk-container-id-2 div.sk-serial::before {content: \"\";position: absolute;border-left: 1px solid gray;box-sizing: border-box;top: 0;bottom: 0;left: 50%;z-index: 0;}#sk-container-id-2 div.sk-serial {display: flex;flex-direction: column;align-items: center;background-color: white;padding-right: 0.2em;padding-left: 0.2em;position: relative;}#sk-container-id-2 div.sk-item {position: relative;z-index: 1;}#sk-container-id-2 div.sk-parallel {display: flex;align-items: stretch;justify-content: center;background-color: white;position: relative;}#sk-container-id-2 div.sk-item::before, #sk-container-id-2 div.sk-parallel-item::before {content: \"\";position: absolute;border-left: 1px solid gray;box-sizing: border-box;top: 0;bottom: 0;left: 50%;z-index: -1;}#sk-container-id-2 div.sk-parallel-item {display: flex;flex-direction: column;z-index: 1;position: relative;background-color: white;}#sk-container-id-2 div.sk-parallel-item:first-child::after {align-self: flex-end;width: 50%;}#sk-container-id-2 div.sk-parallel-item:last-child::after {align-self: flex-start;width: 50%;}#sk-container-id-2 div.sk-parallel-item:only-child::after {width: 0;}#sk-container-id-2 div.sk-dashed-wrapped {border: 1px dashed gray;margin: 0 0.4em 0.5em 0.4em;box-sizing: border-box;padding-bottom: 0.4em;background-color: white;}#sk-container-id-2 div.sk-label label {font-family: monospace;font-weight: bold;display: inline-block;line-height: 1.2em;}#sk-container-id-2 div.sk-label-container {text-align: center;}#sk-container-id-2 div.sk-container {/* jupyter's `normalize.less` sets `[hidden] { display: none; }` but bootstrap.min.css set `[hidden] { display: none !important; }` so we also need the `!important` here to be able to override the default hidden behavior on the sphinx rendered scikit-learn.org. See: https://github.com/scikit-learn/scikit-learn/issues/21755 */display: inline-block !important;position: relative;}#sk-container-id-2 div.sk-text-repr-fallback {display: none;}</style><div id=\"sk-container-id-2\" class=\"sk-top-container\"><div class=\"sk-text-repr-fallback\"><pre>LinearRegression()</pre><b>In a Jupyter environment, please rerun this cell to show the HTML representation or trust the notebook. <br />On GitHub, the HTML representation is unable to render, please try loading this page with nbviewer.org.</b></div><div class=\"sk-container\" hidden><div class=\"sk-item\"><div class=\"sk-estimator sk-toggleable\"><input class=\"sk-toggleable__control sk-hidden--visually\" id=\"sk-estimator-id-2\" type=\"checkbox\" checked><label for=\"sk-estimator-id-2\" class=\"sk-toggleable__label sk-toggleable__label-arrow\">LinearRegression</label><div class=\"sk-toggleable__content\"><pre>LinearRegression()</pre></div></div></div></div></div>"
      ],
      "text/plain": [
       "LinearRegression()"
      ]
     },
     "execution_count": 31,
     "metadata": {},
     "output_type": "execute_result"
    }
   ],
   "source": [
    "modelo_ls = LinearRegression()\n",
    "modelo_ls.fit(TV_train, Sales_train)"
   ]
  },
  {
   "cell_type": "markdown",
   "metadata": {},
   "source": [
    "## Coeficientes"
   ]
  },
  {
   "cell_type": "code",
   "execution_count": 32,
   "metadata": {},
   "outputs": [
    {
     "name": "stdout",
     "output_type": "stream",
     "text": [
      "Valor de a: [7.3321113]\n",
      "Valor de b: [[0.0452205]]\n"
     ]
    }
   ],
   "source": [
    "a = modelo_ls.intercept_\n",
    "b = modelo_ls.coef_\n",
    "\n",
    "print(f\"Valor de a: {a}\")\n",
    "print(f\"Valor de b: {b}\")"
   ]
  },
  {
   "cell_type": "markdown",
   "metadata": {},
   "source": [
    "## Estimación lineal"
   ]
  },
  {
   "cell_type": "code",
   "execution_count": 33,
   "metadata": {},
   "outputs": [
    {
     "data": {
      "text/plain": [
       "[<matplotlib.lines.Line2D at 0x255ab8c88b0>]"
      ]
     },
     "execution_count": 33,
     "metadata": {},
     "output_type": "execute_result"
    },
    {
     "data": {
      "image/png": "[encoded data removed]",
      "text/plain": [
       "<Figure size 432x288 with 1 Axes>"
      ]
     },
     "metadata": {
      "needs_background": "light"
     },
     "output_type": "display_data"
    }
   ],
   "source": [
    "linea_tendencia = modelo_ls.predict(TV_train)\n",
    "plt.plot(TV_train, Sales_train, 'o', color= 'blue')\n",
    "plt.plot(TV_train, linea_tendencia, color=\"red\")"
   ]
  },
  {
   "cell_type": "markdown",
   "metadata": {},
   "source": [
    "## Predicciones del modelo"
   ]
  },
  {
   "cell_type": "code",
   "execution_count": 34,
   "metadata": {},
   "outputs": [
    {
     "data": {
      "text/plain": [
       "array([[  8.4],\n",
       "       [215.4],\n",
       "       [ 76.4],\n",
       "       [273.7],\n",
       "       [225.8],\n",
       "       [112.9],\n",
       "       [177. ],\n",
       "       [ 85.7],\n",
       "       [ 69. ]])"
      ]
     },
     "execution_count": 34,
     "metadata": {},
     "output_type": "execute_result"
    }
   ],
   "source": [
    "TV_train[1:10]"
   ]
  },
  {
   "cell_type": "code",
   "execution_count": 35,
   "metadata": {},
   "outputs": [
    {
     "data": {
      "text/plain": [
       "array([[ 7.92902185],\n",
       "       [18.80907326],\n",
       "       [19.32458692],\n",
       "       [20.43248908],\n",
       "       [16.09132143],\n",
       "       [17.21278974],\n",
       "       [14.10614164],\n",
       "       [ 8.21843303],\n",
       "       [ 9.51626127]])"
      ]
     },
     "execution_count": 35,
     "metadata": {},
     "output_type": "execute_result"
    }
   ],
   "source": [
    "predicciones = modelo_ls.predict(TV_test)\n",
    "predicciones[1:10]"
   ]
  },
  {
   "cell_type": "code",
   "execution_count": 36,
   "metadata": {},
   "outputs": [
    {
     "data": {
      "text/plain": [
       "{'TV': [210.8,\n",
       "  13.2,\n",
       "  253.8,\n",
       "  265.2,\n",
       "  289.7,\n",
       "  193.7,\n",
       "  218.5,\n",
       "  149.8,\n",
       "  19.6,\n",
       "  48.3,\n",
       "  97.2,\n",
       "  280.2,\n",
       "  164.5,\n",
       "  123.1,\n",
       "  218.4,\n",
       "  131.7,\n",
       "  266.9,\n",
       "  171.3,\n",
       "  216.8,\n",
       "  229.5,\n",
       "  8.6,\n",
       "  66.1,\n",
       "  90.4,\n",
       "  202.5,\n",
       "  50.0,\n",
       "  217.7,\n",
       "  187.9,\n",
       "  281.4,\n",
       "  239.9,\n",
       "  213.5,\n",
       "  75.3,\n",
       "  5.4,\n",
       "  139.2,\n",
       "  206.9,\n",
       "  292.9,\n",
       "  140.3,\n",
       "  136.2,\n",
       "  237.4,\n",
       "  75.5,\n",
       "  36.9],\n",
       " 'Real': [23.8,\n",
       "  5.6,\n",
       "  17.6,\n",
       "  12.7,\n",
       "  25.4,\n",
       "  19.2,\n",
       "  12.2,\n",
       "  10.1,\n",
       "  7.6,\n",
       "  11.6,\n",
       "  9.6,\n",
       "  14.8,\n",
       "  14.5,\n",
       "  15.2,\n",
       "  18.0,\n",
       "  12.9,\n",
       "  25.4,\n",
       "  19.0,\n",
       "  22.3,\n",
       "  19.7,\n",
       "  4.8,\n",
       "  8.6,\n",
       "  8.7,\n",
       "  16.6,\n",
       "  8.4,\n",
       "  19.4,\n",
       "  14.7,\n",
       "  24.4,\n",
       "  23.2,\n",
       "  21.7,\n",
       "  11.3,\n",
       "  5.3,\n",
       "  12.2,\n",
       "  12.9,\n",
       "  21.4,\n",
       "  10.3,\n",
       "  13.2,\n",
       "  18.9,\n",
       "  9.9,\n",
       "  10.8],\n",
       " 'Predicho': [16.86459191827496,\n",
       "  7.929021849741516,\n",
       "  18.80907325909955,\n",
       "  19.324586916899555,\n",
       "  20.432489076206586,\n",
       "  16.09132143157495,\n",
       "  17.21278973977146,\n",
       "  14.106141644081944,\n",
       "  8.218433026050292,\n",
       "  9.516261269809958,\n",
       "  11.727543538794196,\n",
       "  20.002894361373247,\n",
       "  14.770882939666164,\n",
       "  12.898754392918772,\n",
       "  17.208267690141632,\n",
       "  13.287650661083688,\n",
       "  19.401461760606573,\n",
       "  15.078382314494238,\n",
       "  17.13591489606444,\n",
       "  17.710215199052165,\n",
       "  7.721007566769583,\n",
       "  10.32118610391874,\n",
       "  11.420044163966121,\n",
       "  16.489261798999518,\n",
       "  9.593136113516977,\n",
       "  17.17661334273286,\n",
       "  15.829042553045124,\n",
       "  20.05715895693114,\n",
       "  18.180508360553926,\n",
       "  16.986687258280227,\n",
       "  10.737214669862604,\n",
       "  7.576301978615196,\n",
       "  13.626804383320536,\n",
       "  16.6882319827118,\n",
       "  20.577194664360974,\n",
       "  13.676546929248607,\n",
       "  13.491142894425796,\n",
       "  18.06745711980831,\n",
       "  10.746258769122253,\n",
       "  9.00074761200995]}"
      ]
     },
     "execution_count": 36,
     "metadata": {},
     "output_type": "execute_result"
    }
   ],
   "source": [
    "diccionario = {'TV': TV_test.flatten().tolist(),\n",
    "                'Real' : Sales_test.flatten().tolist(), \n",
    "               'Predicho' : predicciones.flatten().tolist()}\n",
    "diccionario"
   ]
  },
  {
   "cell_type": "code",
   "execution_count": 37,
   "metadata": {},
   "outputs": [
    {
     "data": {
      "text/html": [
       "<div>\n",
       "<style scoped>\n",
       "    .dataframe tbody tr th:only-of-type {\n",
       "        vertical-align: middle;\n",
       "    }\n",
       "\n",
       "    .dataframe tbody tr th {\n",
       "        vertical-align: top;\n",
       "    }\n",
       "\n",
       "    .dataframe thead th {\n",
       "        text-align: right;\n",
       "    }\n",
       "</style>\n",
       "<table border=\"1\" class=\"dataframe\">\n",
       "  <thead>\n",
       "    <tr style=\"text-align: right;\">\n",
       "      <th></th>\n",
       "      <th>TV</th>\n",
       "      <th>Real</th>\n",
       "      <th>Predicho</th>\n",
       "    </tr>\n",
       "  </thead>\n",
       "  <tbody>\n",
       "    <tr>\n",
       "      <th>0</th>\n",
       "      <td>210.8</td>\n",
       "      <td>23.8</td>\n",
       "      <td>16.864592</td>\n",
       "    </tr>\n",
       "    <tr>\n",
       "      <th>1</th>\n",
       "      <td>13.2</td>\n",
       "      <td>5.6</td>\n",
       "      <td>7.929022</td>\n",
       "    </tr>\n",
       "    <tr>\n",
       "      <th>2</th>\n",
       "      <td>253.8</td>\n",
       "      <td>17.6</td>\n",
       "      <td>18.809073</td>\n",
       "    </tr>\n",
       "    <tr>\n",
       "      <th>3</th>\n",
       "      <td>265.2</td>\n",
       "      <td>12.7</td>\n",
       "      <td>19.324587</td>\n",
       "    </tr>\n",
       "    <tr>\n",
       "      <th>4</th>\n",
       "      <td>289.7</td>\n",
       "      <td>25.4</td>\n",
       "      <td>20.432489</td>\n",
       "    </tr>\n",
       "    <tr>\n",
       "      <th>5</th>\n",
       "      <td>193.7</td>\n",
       "      <td>19.2</td>\n",
       "      <td>16.091321</td>\n",
       "    </tr>\n",
       "    <tr>\n",
       "      <th>6</th>\n",
       "      <td>218.5</td>\n",
       "      <td>12.2</td>\n",
       "      <td>17.212790</td>\n",
       "    </tr>\n",
       "    <tr>\n",
       "      <th>7</th>\n",
       "      <td>149.8</td>\n",
       "      <td>10.1</td>\n",
       "      <td>14.106142</td>\n",
       "    </tr>\n",
       "    <tr>\n",
       "      <th>8</th>\n",
       "      <td>19.6</td>\n",
       "      <td>7.6</td>\n",
       "      <td>8.218433</td>\n",
       "    </tr>\n",
       "    <tr>\n",
       "      <th>9</th>\n",
       "      <td>48.3</td>\n",
       "      <td>11.6</td>\n",
       "      <td>9.516261</td>\n",
       "    </tr>\n",
       "    <tr>\n",
       "      <th>10</th>\n",
       "      <td>97.2</td>\n",
       "      <td>9.6</td>\n",
       "      <td>11.727544</td>\n",
       "    </tr>\n",
       "    <tr>\n",
       "      <th>11</th>\n",
       "      <td>280.2</td>\n",
       "      <td>14.8</td>\n",
       "      <td>20.002894</td>\n",
       "    </tr>\n",
       "    <tr>\n",
       "      <th>12</th>\n",
       "      <td>164.5</td>\n",
       "      <td>14.5</td>\n",
       "      <td>14.770883</td>\n",
       "    </tr>\n",
       "    <tr>\n",
       "      <th>13</th>\n",
       "      <td>123.1</td>\n",
       "      <td>15.2</td>\n",
       "      <td>12.898754</td>\n",
       "    </tr>\n",
       "    <tr>\n",
       "      <th>14</th>\n",
       "      <td>218.4</td>\n",
       "      <td>18.0</td>\n",
       "      <td>17.208268</td>\n",
       "    </tr>\n",
       "    <tr>\n",
       "      <th>15</th>\n",
       "      <td>131.7</td>\n",
       "      <td>12.9</td>\n",
       "      <td>13.287651</td>\n",
       "    </tr>\n",
       "    <tr>\n",
       "      <th>16</th>\n",
       "      <td>266.9</td>\n",
       "      <td>25.4</td>\n",
       "      <td>19.401462</td>\n",
       "    </tr>\n",
       "    <tr>\n",
       "      <th>17</th>\n",
       "      <td>171.3</td>\n",
       "      <td>19.0</td>\n",
       "      <td>15.078382</td>\n",
       "    </tr>\n",
       "    <tr>\n",
       "      <th>18</th>\n",
       "      <td>216.8</td>\n",
       "      <td>22.3</td>\n",
       "      <td>17.135915</td>\n",
       "    </tr>\n",
       "    <tr>\n",
       "      <th>19</th>\n",
       "      <td>229.5</td>\n",
       "      <td>19.7</td>\n",
       "      <td>17.710215</td>\n",
       "    </tr>\n",
       "    <tr>\n",
       "      <th>20</th>\n",
       "      <td>8.6</td>\n",
       "      <td>4.8</td>\n",
       "      <td>7.721008</td>\n",
       "    </tr>\n",
       "    <tr>\n",
       "      <th>21</th>\n",
       "      <td>66.1</td>\n",
       "      <td>8.6</td>\n",
       "      <td>10.321186</td>\n",
       "    </tr>\n",
       "    <tr>\n",
       "      <th>22</th>\n",
       "      <td>90.4</td>\n",
       "      <td>8.7</td>\n",
       "      <td>11.420044</td>\n",
       "    </tr>\n",
       "    <tr>\n",
       "      <th>23</th>\n",
       "      <td>202.5</td>\n",
       "      <td>16.6</td>\n",
       "      <td>16.489262</td>\n",
       "    </tr>\n",
       "    <tr>\n",
       "      <th>24</th>\n",
       "      <td>50.0</td>\n",
       "      <td>8.4</td>\n",
       "      <td>9.593136</td>\n",
       "    </tr>\n",
       "    <tr>\n",
       "      <th>25</th>\n",
       "      <td>217.7</td>\n",
       "      <td>19.4</td>\n",
       "      <td>17.176613</td>\n",
       "    </tr>\n",
       "    <tr>\n",
       "      <th>26</th>\n",
       "      <td>187.9</td>\n",
       "      <td>14.7</td>\n",
       "      <td>15.829043</td>\n",
       "    </tr>\n",
       "    <tr>\n",
       "      <th>27</th>\n",
       "      <td>281.4</td>\n",
       "      <td>24.4</td>\n",
       "      <td>20.057159</td>\n",
       "    </tr>\n",
       "    <tr>\n",
       "      <th>28</th>\n",
       "      <td>239.9</td>\n",
       "      <td>23.2</td>\n",
       "      <td>18.180508</td>\n",
       "    </tr>\n",
       "    <tr>\n",
       "      <th>29</th>\n",
       "      <td>213.5</td>\n",
       "      <td>21.7</td>\n",
       "      <td>16.986687</td>\n",
       "    </tr>\n",
       "    <tr>\n",
       "      <th>30</th>\n",
       "      <td>75.3</td>\n",
       "      <td>11.3</td>\n",
       "      <td>10.737215</td>\n",
       "    </tr>\n",
       "    <tr>\n",
       "      <th>31</th>\n",
       "      <td>5.4</td>\n",
       "      <td>5.3</td>\n",
       "      <td>7.576302</td>\n",
       "    </tr>\n",
       "    <tr>\n",
       "      <th>32</th>\n",
       "      <td>139.2</td>\n",
       "      <td>12.2</td>\n",
       "      <td>13.626804</td>\n",
       "    </tr>\n",
       "    <tr>\n",
       "      <th>33</th>\n",
       "      <td>206.9</td>\n",
       "      <td>12.9</td>\n",
       "      <td>16.688232</td>\n",
       "    </tr>\n",
       "    <tr>\n",
       "      <th>34</th>\n",
       "      <td>292.9</td>\n",
       "      <td>21.4</td>\n",
       "      <td>20.577195</td>\n",
       "    </tr>\n",
       "    <tr>\n",
       "      <th>35</th>\n",
       "      <td>140.3</td>\n",
       "      <td>10.3</td>\n",
       "      <td>13.676547</td>\n",
       "    </tr>\n",
       "    <tr>\n",
       "      <th>36</th>\n",
       "      <td>136.2</td>\n",
       "      <td>13.2</td>\n",
       "      <td>13.491143</td>\n",
       "    </tr>\n",
       "    <tr>\n",
       "      <th>37</th>\n",
       "      <td>237.4</td>\n",
       "      <td>18.9</td>\n",
       "      <td>18.067457</td>\n",
       "    </tr>\n",
       "    <tr>\n",
       "      <th>38</th>\n",
       "      <td>75.5</td>\n",
       "      <td>9.9</td>\n",
       "      <td>10.746259</td>\n",
       "    </tr>\n",
       "    <tr>\n",
       "      <th>39</th>\n",
       "      <td>36.9</td>\n",
       "      <td>10.8</td>\n",
       "      <td>9.000748</td>\n",
       "    </tr>\n",
       "  </tbody>\n",
       "</table>\n",
       "</div>"
      ],
      "text/plain": [
       "       TV  Real   Predicho\n",
       "0   210.8  23.8  16.864592\n",
       "1    13.2   5.6   7.929022\n",
       "2   253.8  17.6  18.809073\n",
       "3   265.2  12.7  19.324587\n",
       "4   289.7  25.4  20.432489\n",
       "5   193.7  19.2  16.091321\n",
       "6   218.5  12.2  17.212790\n",
       "7   149.8  10.1  14.106142\n",
       "8    19.6   7.6   8.218433\n",
       "9    48.3  11.6   9.516261\n",
       "10   97.2   9.6  11.727544\n",
       "11  280.2  14.8  20.002894\n",
       "12  164.5  14.5  14.770883\n",
       "13  123.1  15.2  12.898754\n",
       "14  218.4  18.0  17.208268\n",
       "15  131.7  12.9  13.287651\n",
       "16  266.9  25.4  19.401462\n",
       "17  171.3  19.0  15.078382\n",
       "18  216.8  22.3  17.135915\n",
       "19  229.5  19.7  17.710215\n",
       "20    8.6   4.8   7.721008\n",
       "21   66.1   8.6  10.321186\n",
       "22   90.4   8.7  11.420044\n",
       "23  202.5  16.6  16.489262\n",
       "24   50.0   8.4   9.593136\n",
       "25  217.7  19.4  17.176613\n",
       "26  187.9  14.7  15.829043\n",
       "27  281.4  24.4  20.057159\n",
       "28  239.9  23.2  18.180508\n",
       "29  213.5  21.7  16.986687\n",
       "30   75.3  11.3  10.737215\n",
       "31    5.4   5.3   7.576302\n",
       "32  139.2  12.2  13.626804\n",
       "33  206.9  12.9  16.688232\n",
       "34  292.9  21.4  20.577195\n",
       "35  140.3  10.3  13.676547\n",
       "36  136.2  13.2  13.491143\n",
       "37  237.4  18.9  18.067457\n",
       "38   75.5   9.9  10.746259\n",
       "39   36.9  10.8   9.000748"
      ]
     },
     "execution_count": 37,
     "metadata": {},
     "output_type": "execute_result"
    }
   ],
   "source": [
    "comparaciones = pd.DataFrame(diccionario)\n",
    "comparaciones"
   ]
  },
  {
   "cell_type": "markdown",
   "metadata": {},
   "source": [
    "## Valor de R Square"
   ]
  },
  {
   "cell_type": "code",
   "execution_count": 40,
   "metadata": {},
   "outputs": [
    {
     "name": "stdout",
     "output_type": "stream",
     "text": [
      "R Square : 0.7066\n",
      "R Square : 0.6786607113562172\n"
     ]
    }
   ],
   "source": [
    "r = np.corrcoef(comparaciones['Real'], comparaciones['Predicho'])\n",
    "r = r ** 2\n",
    "r = r.reshape(-1,2)\n",
    "r = r[0, 1]\n",
    "print('R Square :', np.round(r, 4) )\n",
    "print('R Square :', r2_score(comparaciones['Real'], comparaciones['Predicho'] ))"
   ]
  },
  {
   "cell_type": "markdown",
   "metadata": {},
   "source": [
    "## Evaluar predicciones con rmse"
   ]
  },
  {
   "cell_type": "code",
   "execution_count": 41,
   "metadata": {},
   "outputs": [
    {
     "name": "stdout",
     "output_type": "stream",
     "text": [
      "Mean Squared Error: MSE 10.758919384356258\n",
      "Root Mean Squared Error RMSE: 3.2800791734889962\n"
     ]
    },
    {
     "data": {
      "text/plain": [
       "[3.2800791734889962]"
      ]
     },
     "execution_count": 41,
     "metadata": {},
     "output_type": "execute_result"
    }
   ],
   "source": [
    "print('Mean Squared Error: MSE', metrics.mean_squared_error(Sales_test, predicciones))\n",
    "print('Root Mean Squared Error RMSE:', np.sqrt(metrics.mean_squared_error(Sales_test, predicciones)))\n",
    "rmse = []\n",
    "rmse.append(np.sqrt(metrics.mean_squared_error(Sales_test, predicciones)))\n",
    "\n",
    "rmse"
   ]
  },
  {
   "cell_type": "markdown",
   "metadata": {},
   "source": [
    "# Modelo de regresión polinomial de segundo nivel"
   ]
  },
  {
   "cell_type": "code",
   "execution_count": 42,
   "metadata": {},
   "outputs": [
    {
     "data": {
      "text/html": [
       "<style>#sk-container-id-3 {color: black;background-color: white;}#sk-container-id-3 pre{padding: 0;}#sk-container-id-3 div.sk-toggleable {background-color: white;}#sk-container-id-3 label.sk-toggleable__label {cursor: pointer;display: block;width: 100%;margin-bottom: 0;padding: 0.3em;box-sizing: border-box;text-align: center;}#sk-container-id-3 label.sk-toggleable__label-arrow:before {content: \"▸\";float: left;margin-right: 0.25em;color: #696969;}#sk-container-id-3 label.sk-toggleable__label-arrow:hover:before {color: black;}#sk-container-id-3 div.sk-estimator:hover label.sk-toggleable__label-arrow:before {color: black;}#sk-container-id-3 div.sk-toggleable__content {max-height: 0;max-width: 0;overflow: hidden;text-align: left;background-color: #f0f8ff;}#sk-container-id-3 div.sk-toggleable__content pre {margin: 0.2em;color: black;border-radius: 0.25em;background-color: #f0f8ff;}#sk-container-id-3 input.sk-toggleable__control:checked~div.sk-toggleable__content {max-height: 200px;max-width: 100%;overflow: auto;}#sk-container-id-3 input.sk-toggleable__control:checked~label.sk-toggleable__label-arrow:before {content: \"▾\";}#sk-container-id-3 div.sk-estimator input.sk-toggleable__control:checked~label.sk-toggleable__label {background-color: #d4ebff;}#sk-container-id-3 div.sk-label input.sk-toggleable__control:checked~label.sk-toggleable__label {background-color: #d4ebff;}#sk-container-id-3 input.sk-hidden--visually {border: 0;clip: rect(1px 1px 1px 1px);clip: rect(1px, 1px, 1px, 1px);height: 1px;margin: -1px;overflow: hidden;padding: 0;position: absolute;width: 1px;}#sk-container-id-3 div.sk-estimator {font-family: monospace;background-color: #f0f8ff;border: 1px dotted black;border-radius: 0.25em;box-sizing: border-box;margin-bottom: 0.5em;}#sk-container-id-3 div.sk-estimator:hover {background-color: #d4ebff;}#sk-container-id-3 div.sk-parallel-item::after {content: \"\";width: 100%;border-bottom: 1px solid gray;flex-grow: 1;}#sk-container-id-3 div.sk-label:hover label.sk-toggleable__label {background-color: #d4ebff;}#sk-container-id-3 div.sk-serial::before {content: \"\";position: absolute;border-left: 1px solid gray;box-sizing: border-box;top: 0;bottom: 0;left: 50%;z-index: 0;}#sk-container-id-3 div.sk-serial {display: flex;flex-direction: column;align-items: center;background-color: white;padding-right: 0.2em;padding-left: 0.2em;position: relative;}#sk-container-id-3 div.sk-item {position: relative;z-index: 1;}#sk-container-id-3 div.sk-parallel {display: flex;align-items: stretch;justify-content: center;background-color: white;position: relative;}#sk-container-id-3 div.sk-item::before, #sk-container-id-3 div.sk-parallel-item::before {content: \"\";position: absolute;border-left: 1px solid gray;box-sizing: border-box;top: 0;bottom: 0;left: 50%;z-index: -1;}#sk-container-id-3 div.sk-parallel-item {display: flex;flex-direction: column;z-index: 1;position: relative;background-color: white;}#sk-container-id-3 div.sk-parallel-item:first-child::after {align-self: flex-end;width: 50%;}#sk-container-id-3 div.sk-parallel-item:last-child::after {align-self: flex-start;width: 50%;}#sk-container-id-3 div.sk-parallel-item:only-child::after {width: 0;}#sk-container-id-3 div.sk-dashed-wrapped {border: 1px dashed gray;margin: 0 0.4em 0.5em 0.4em;box-sizing: border-box;padding-bottom: 0.4em;background-color: white;}#sk-container-id-3 div.sk-label label {font-family: monospace;font-weight: bold;display: inline-block;line-height: 1.2em;}#sk-container-id-3 div.sk-label-container {text-align: center;}#sk-container-id-3 div.sk-container {/* jupyter's `normalize.less` sets `[hidden] { display: none; }` but bootstrap.min.css set `[hidden] { display: none !important; }` so we also need the `!important` here to be able to override the default hidden behavior on the sphinx rendered scikit-learn.org. See: https://github.com/scikit-learn/scikit-learn/issues/21755 */display: inline-block !important;position: relative;}#sk-container-id-3 div.sk-text-repr-fallback {display: none;}</style><div id=\"sk-container-id-3\" class=\"sk-top-container\"><div class=\"sk-text-repr-fallback\"><pre>LinearRegression()</pre><b>In a Jupyter environment, please rerun this cell to show the HTML representation or trust the notebook. <br />On GitHub, the HTML representation is unable to render, please try loading this page with nbviewer.org.</b></div><div class=\"sk-container\" hidden><div class=\"sk-item\"><div class=\"sk-estimator sk-toggleable\"><input class=\"sk-toggleable__control sk-hidden--visually\" id=\"sk-estimator-id-3\" type=\"checkbox\" checked><label for=\"sk-estimator-id-3\" class=\"sk-toggleable__label sk-toggleable__label-arrow\">LinearRegression</label><div class=\"sk-toggleable__content\"><pre>LinearRegression()</pre></div></div></div></div></div>"
      ],
      "text/plain": [
       "LinearRegression()"
      ]
     },
     "execution_count": 42,
     "metadata": {},
     "output_type": "execute_result"
    }
   ],
   "source": [
    "from sklearn.preprocessing import PolynomialFeatures\n",
    "\n",
    "poly_reg =  PolynomialFeatures(degree = 2)\n",
    "\n",
    "TV_poly = poly_reg.fit_transform(TV_train)\n",
    "\n",
    "modelo_poly2 = LinearRegression()\n",
    "modelo_poly2.fit(TV_poly, Sales_train)"
   ]
  },
  {
   "cell_type": "markdown",
   "metadata": {},
   "source": [
    "## Curva de tendencia"
   ]
  },
  {
   "cell_type": "code",
   "execution_count": 43,
   "metadata": {},
   "outputs": [
    {
     "data": {
      "image/png": "[encoded data removed]",
      "text/plain": [
       "<Figure size 432x288 with 1 Axes>"
      ]
     },
     "metadata": {
      "needs_background": "light"
     },
     "output_type": "display_data"
    }
   ],
   "source": [
    "curva_tendencia = modelo_poly2.predict(poly_reg.fit_transform(TV_train))\n",
    "plt.scatter(TV_train, Sales_train, color = 'b', )\n",
    "plt.scatter(TV_train, curva_tendencia, color='r', linestyle = 'solid')\n",
    "plt.show()"
   ]
  },
  {
   "cell_type": "markdown",
   "metadata": {},
   "source": [
    "## Predicciones del modelo"
   ]
  },
  {
   "cell_type": "code",
   "execution_count": 44,
   "metadata": {},
   "outputs": [
    {
     "data": {
      "text/plain": [
       "array([[17.10102159],\n",
       "       [ 7.05923067],\n",
       "       [18.34687173],\n",
       "       [18.62085883],\n",
       "       [19.12983113],\n",
       "       [16.51226688],\n",
       "       [17.34879495],\n",
       "       [14.75764287],\n",
       "       [ 7.49557613],\n",
       "       [ 9.36084761],\n",
       "       [12.19442006],\n",
       "       [18.94541296],\n",
       "       [15.3841554 ],\n",
       "       [13.51932744],\n",
       "       [17.34564612],\n",
       "       [13.9323189 ],\n",
       "       [18.65969453],\n",
       "       [15.66069634],\n",
       "       [17.29501786],\n",
       "       [17.68408015],\n",
       "       [ 6.7410131 ],\n",
       "       [10.44255401],\n",
       "       [11.82637853],\n",
       "       [16.8218835 ],\n",
       "       [ 9.46664173],\n",
       "       [17.32355345],\n",
       "       [16.30051278],\n",
       "       [18.96961221],\n",
       "       [17.98086951],\n",
       "       [17.1891289 ],\n",
       "       [10.9790845 ],\n",
       "       [ 6.51737808],\n",
       "       [14.28152225],\n",
       "       [16.97141838],\n",
       "       [19.18826098],\n",
       "       [14.33187981],\n",
       "       [14.14306666],\n",
       "       [17.91131913],\n",
       "       [10.9905775 ],\n",
       "       [ 8.63784517]])"
      ]
     },
     "execution_count": 44,
     "metadata": {},
     "output_type": "execute_result"
    }
   ],
   "source": [
    "predicciones = modelo_poly2.predict(poly_reg.fit_transform(TV_test))\n",
    "predicciones"
   ]
  },
  {
   "cell_type": "markdown",
   "metadata": {},
   "source": [
    "### Tabla de comparaciones"
   ]
  },
  {
   "cell_type": "code",
   "execution_count": 46,
   "metadata": {},
   "outputs": [
    {
     "data": {
      "text/html": [
       "<div>\n",
       "<style scoped>\n",
       "    .dataframe tbody tr th:only-of-type {\n",
       "        vertical-align: middle;\n",
       "    }\n",
       "\n",
       "    .dataframe tbody tr th {\n",
       "        vertical-align: top;\n",
       "    }\n",
       "\n",
       "    .dataframe thead th {\n",
       "        text-align: right;\n",
       "    }\n",
       "</style>\n",
       "<table border=\"1\" class=\"dataframe\">\n",
       "  <thead>\n",
       "    <tr style=\"text-align: right;\">\n",
       "      <th></th>\n",
       "      <th>TV</th>\n",
       "      <th>Real</th>\n",
       "      <th>Predicho</th>\n",
       "    </tr>\n",
       "  </thead>\n",
       "  <tbody>\n",
       "    <tr>\n",
       "      <th>0</th>\n",
       "      <td>210.8</td>\n",
       "      <td>23.8</td>\n",
       "      <td>17.101022</td>\n",
       "    </tr>\n",
       "    <tr>\n",
       "      <th>1</th>\n",
       "      <td>13.2</td>\n",
       "      <td>5.6</td>\n",
       "      <td>7.059231</td>\n",
       "    </tr>\n",
       "    <tr>\n",
       "      <th>2</th>\n",
       "      <td>253.8</td>\n",
       "      <td>17.6</td>\n",
       "      <td>18.346872</td>\n",
       "    </tr>\n",
       "    <tr>\n",
       "      <th>3</th>\n",
       "      <td>265.2</td>\n",
       "      <td>12.7</td>\n",
       "      <td>18.620859</td>\n",
       "    </tr>\n",
       "    <tr>\n",
       "      <th>4</th>\n",
       "      <td>289.7</td>\n",
       "      <td>25.4</td>\n",
       "      <td>19.129831</td>\n",
       "    </tr>\n",
       "    <tr>\n",
       "      <th>5</th>\n",
       "      <td>193.7</td>\n",
       "      <td>19.2</td>\n",
       "      <td>16.512267</td>\n",
       "    </tr>\n",
       "    <tr>\n",
       "      <th>6</th>\n",
       "      <td>218.5</td>\n",
       "      <td>12.2</td>\n",
       "      <td>17.348795</td>\n",
       "    </tr>\n",
       "    <tr>\n",
       "      <th>7</th>\n",
       "      <td>149.8</td>\n",
       "      <td>10.1</td>\n",
       "      <td>14.757643</td>\n",
       "    </tr>\n",
       "    <tr>\n",
       "      <th>8</th>\n",
       "      <td>19.6</td>\n",
       "      <td>7.6</td>\n",
       "      <td>7.495576</td>\n",
       "    </tr>\n",
       "    <tr>\n",
       "      <th>9</th>\n",
       "      <td>48.3</td>\n",
       "      <td>11.6</td>\n",
       "      <td>9.360848</td>\n",
       "    </tr>\n",
       "  </tbody>\n",
       "</table>\n",
       "</div>"
      ],
      "text/plain": [
       "      TV  Real   Predicho\n",
       "0  210.8  23.8  17.101022\n",
       "1   13.2   5.6   7.059231\n",
       "2  253.8  17.6  18.346872\n",
       "3  265.2  12.7  18.620859\n",
       "4  289.7  25.4  19.129831\n",
       "5  193.7  19.2  16.512267\n",
       "6  218.5  12.2  17.348795\n",
       "7  149.8  10.1  14.757643\n",
       "8   19.6   7.6   7.495576\n",
       "9   48.3  11.6   9.360848"
      ]
     },
     "execution_count": 46,
     "metadata": {},
     "output_type": "execute_result"
    }
   ],
   "source": [
    "diccionario = {'TV': TV_test.flatten().tolist(),\n",
    "                'Real' : Sales_test.flatten().tolist(), \n",
    "               'Predicho' : predicciones.flatten().tolist()}\n",
    "comparaciones = pd.DataFrame(diccionario)\n",
    "comparaciones.head(10)"
   ]
  },
  {
   "cell_type": "markdown",
   "metadata": {},
   "source": [
    "## R Square"
   ]
  },
  {
   "cell_type": "code",
   "execution_count": 48,
   "metadata": {},
   "outputs": [
    {
     "name": "stdout",
     "output_type": "stream",
     "text": [
      "R Square : 0.6915\n",
      "R Square : 0.6635856955459076\n"
     ]
    }
   ],
   "source": [
    "r = np.corrcoef(comparaciones['Real'], comparaciones['Predicho'])\n",
    "r = r ** 2\n",
    "r = r.reshape(-1,2)\n",
    "r = r[0, 1]\n",
    "print('R Square :', np.round(r, 4) )\n",
    "print('R Square :', r2_score(comparaciones['Real'], comparaciones['Predicho'] ))"
   ]
  },
  {
   "cell_type": "markdown",
   "metadata": {},
   "source": [
    "## Evaluar predicciones con rmse"
   ]
  },
  {
   "cell_type": "code",
   "execution_count": 51,
   "metadata": {},
   "outputs": [
    {
     "name": "stdout",
     "output_type": "stream",
     "text": [
      "Mean Squared Error: MSE 11.263653431990287\n",
      "Root Mean Squared Error RMSE: 3.356136682554852\n"
     ]
    },
    {
     "data": {
      "text/plain": [
       "[3.2800791734889962, 3.356136682554852]"
      ]
     },
     "execution_count": 51,
     "metadata": {},
     "output_type": "execute_result"
    }
   ],
   "source": [
    "print('Mean Squared Error: MSE', metrics.mean_squared_error(Sales_test, predicciones))\n",
    "print('Root Mean Squared Error RMSE:', np.sqrt(metrics.mean_squared_error(Sales_test, predicciones)))\n",
    "rmse.append(np.sqrt(metrics.mean_squared_error(Sales_test, predicciones)))\n",
    "\n",
    "rmse"
   ]
  },
  {
   "cell_type": "markdown",
   "metadata": {},
   "source": [
    "# Modelo de regresión polinomial de quinto nivel"
   ]
  },
  {
   "cell_type": "code",
   "execution_count": 52,
   "metadata": {},
   "outputs": [
    {
     "data": {
      "text/html": [
       "<style>#sk-container-id-4 {color: black;background-color: white;}#sk-container-id-4 pre{padding: 0;}#sk-container-id-4 div.sk-toggleable {background-color: white;}#sk-container-id-4 label.sk-toggleable__label {cursor: pointer;display: block;width: 100%;margin-bottom: 0;padding: 0.3em;box-sizing: border-box;text-align: center;}#sk-container-id-4 label.sk-toggleable__label-arrow:before {content: \"▸\";float: left;margin-right: 0.25em;color: #696969;}#sk-container-id-4 label.sk-toggleable__label-arrow:hover:before {color: black;}#sk-container-id-4 div.sk-estimator:hover label.sk-toggleable__label-arrow:before {color: black;}#sk-container-id-4 div.sk-toggleable__content {max-height: 0;max-width: 0;overflow: hidden;text-align: left;background-color: #f0f8ff;}#sk-container-id-4 div.sk-toggleable__content pre {margin: 0.2em;color: black;border-radius: 0.25em;background-color: #f0f8ff;}#sk-container-id-4 input.sk-toggleable__control:checked~div.sk-toggleable__content {max-height: 200px;max-width: 100%;overflow: auto;}#sk-container-id-4 input.sk-toggleable__control:checked~label.sk-toggleable__label-arrow:before {content: \"▾\";}#sk-container-id-4 div.sk-estimator input.sk-toggleable__control:checked~label.sk-toggleable__label {background-color: #d4ebff;}#sk-container-id-4 div.sk-label input.sk-toggleable__control:checked~label.sk-toggleable__label {background-color: #d4ebff;}#sk-container-id-4 input.sk-hidden--visually {border: 0;clip: rect(1px 1px 1px 1px);clip: rect(1px, 1px, 1px, 1px);height: 1px;margin: -1px;overflow: hidden;padding: 0;position: absolute;width: 1px;}#sk-container-id-4 div.sk-estimator {font-family: monospace;background-color: #f0f8ff;border: 1px dotted black;border-radius: 0.25em;box-sizing: border-box;margin-bottom: 0.5em;}#sk-container-id-4 div.sk-estimator:hover {background-color: #d4ebff;}#sk-container-id-4 div.sk-parallel-item::after {content: \"\";width: 100%;border-bottom: 1px solid gray;flex-grow: 1;}#sk-container-id-4 div.sk-label:hover label.sk-toggleable__label {background-color: #d4ebff;}#sk-container-id-4 div.sk-serial::before {content: \"\";position: absolute;border-left: 1px solid gray;box-sizing: border-box;top: 0;bottom: 0;left: 50%;z-index: 0;}#sk-container-id-4 div.sk-serial {display: flex;flex-direction: column;align-items: center;background-color: white;padding-right: 0.2em;padding-left: 0.2em;position: relative;}#sk-container-id-4 div.sk-item {position: relative;z-index: 1;}#sk-container-id-4 div.sk-parallel {display: flex;align-items: stretch;justify-content: center;background-color: white;position: relative;}#sk-container-id-4 div.sk-item::before, #sk-container-id-4 div.sk-parallel-item::before {content: \"\";position: absolute;border-left: 1px solid gray;box-sizing: border-box;top: 0;bottom: 0;left: 50%;z-index: -1;}#sk-container-id-4 div.sk-parallel-item {display: flex;flex-direction: column;z-index: 1;position: relative;background-color: white;}#sk-container-id-4 div.sk-parallel-item:first-child::after {align-self: flex-end;width: 50%;}#sk-container-id-4 div.sk-parallel-item:last-child::after {align-self: flex-start;width: 50%;}#sk-container-id-4 div.sk-parallel-item:only-child::after {width: 0;}#sk-container-id-4 div.sk-dashed-wrapped {border: 1px dashed gray;margin: 0 0.4em 0.5em 0.4em;box-sizing: border-box;padding-bottom: 0.4em;background-color: white;}#sk-container-id-4 div.sk-label label {font-family: monospace;font-weight: bold;display: inline-block;line-height: 1.2em;}#sk-container-id-4 div.sk-label-container {text-align: center;}#sk-container-id-4 div.sk-container {/* jupyter's `normalize.less` sets `[hidden] { display: none; }` but bootstrap.min.css set `[hidden] { display: none !important; }` so we also need the `!important` here to be able to override the default hidden behavior on the sphinx rendered scikit-learn.org. See: https://github.com/scikit-learn/scikit-learn/issues/21755 */display: inline-block !important;position: relative;}#sk-container-id-4 div.sk-text-repr-fallback {display: none;}</style><div id=\"sk-container-id-4\" class=\"sk-top-container\"><div class=\"sk-text-repr-fallback\"><pre>LinearRegression()</pre><b>In a Jupyter environment, please rerun this cell to show the HTML representation or trust the notebook. <br />On GitHub, the HTML representation is unable to render, please try loading this page with nbviewer.org.</b></div><div class=\"sk-container\" hidden><div class=\"sk-item\"><div class=\"sk-estimator sk-toggleable\"><input class=\"sk-toggleable__control sk-hidden--visually\" id=\"sk-estimator-id-4\" type=\"checkbox\" checked><label for=\"sk-estimator-id-4\" class=\"sk-toggleable__label sk-toggleable__label-arrow\">LinearRegression</label><div class=\"sk-toggleable__content\"><pre>LinearRegression()</pre></div></div></div></div></div>"
      ],
      "text/plain": [
       "LinearRegression()"
      ]
     },
     "execution_count": 52,
     "metadata": {},
     "output_type": "execute_result"
    }
   ],
   "source": [
    "from sklearn.preprocessing import PolynomialFeatures\n",
    "\n",
    "poly_reg =  PolynomialFeatures(degree = 5)\n",
    "\n",
    "TV_poly = poly_reg.fit_transform(TV_train)\n",
    "\n",
    "modelo_poly5 = LinearRegression()\n",
    "modelo_poly5.fit(TV_poly, Sales_train)"
   ]
  },
  {
   "cell_type": "markdown",
   "metadata": {},
   "source": [
    "## Curva de tendencia"
   ]
  },
  {
   "cell_type": "code",
   "execution_count": 53,
   "metadata": {},
   "outputs": [
    {
     "data": {
      "image/png": "[encoded data removed]",
      "text/plain": [
       "<Figure size 432x288 with 1 Axes>"
      ]
     },
     "metadata": {
      "needs_background": "light"
     },
     "output_type": "display_data"
    }
   ],
   "source": [
    "curva_tendencia = modelo_poly5.predict(poly_reg.fit_transform(TV_train))\n",
    "plt.scatter(TV_train, Sales_train, color = 'b', )\n",
    "plt.scatter(TV_train, curva_tendencia, color='r', linestyle = 'solid')\n",
    "plt.show()"
   ]
  },
  {
   "cell_type": "markdown",
   "metadata": {},
   "source": [
    "## Predicciones del modelo"
   ]
  },
  {
   "cell_type": "code",
   "execution_count": 54,
   "metadata": {},
   "outputs": [
    {
     "data": {
      "text/plain": [
       "array([[16.96741471],\n",
       "       [ 6.45261783],\n",
       "       [17.92918139],\n",
       "       [18.34279883],\n",
       "       [20.15705169],\n",
       "       [16.47298907],\n",
       "       [17.14861932],\n",
       "       [14.6389791 ],\n",
       "       [ 7.41739808],\n",
       "       [10.09950926],\n",
       "       [12.26577374],\n",
       "       [19.24948118],\n",
       "       [15.32050862],\n",
       "       [13.37840943],\n",
       "       [17.14639889],\n",
       "       [13.7778888 ],\n",
       "       [18.42106026],\n",
       "       [15.61848493],\n",
       "       [17.110437  ],\n",
       "       [17.37831204],\n",
       "       [ 5.6407023 ],\n",
       "       [11.01528188],\n",
       "       [11.99543915],\n",
       "       [16.74467097],\n",
       "       [10.20225713],\n",
       "       [17.13076767],\n",
       "       [16.27333096],\n",
       "       [19.34722112],\n",
       "       [17.58885964],\n",
       "       [17.03347099],\n",
       "       [11.40050607],\n",
       "       [ 5.00992877],\n",
       "       [14.13357411],\n",
       "       [16.86661372],\n",
       "       [20.54032335],\n",
       "       [14.18604548],\n",
       "       [13.99076667],\n",
       "       [17.5369695 ],\n",
       "       [11.40855734],\n",
       "       [ 9.28240884]])"
      ]
     },
     "execution_count": 54,
     "metadata": {},
     "output_type": "execute_result"
    }
   ],
   "source": [
    "predicciones = modelo_poly5.predict(poly_reg.fit_transform(TV_test))\n",
    "predicciones"
   ]
  },
  {
   "cell_type": "markdown",
   "metadata": {},
   "source": [
    "### Tabla de comparaciones"
   ]
  },
  {
   "cell_type": "code",
   "execution_count": 56,
   "metadata": {},
   "outputs": [
    {
     "data": {
      "text/html": [
       "<div>\n",
       "<style scoped>\n",
       "    .dataframe tbody tr th:only-of-type {\n",
       "        vertical-align: middle;\n",
       "    }\n",
       "\n",
       "    .dataframe tbody tr th {\n",
       "        vertical-align: top;\n",
       "    }\n",
       "\n",
       "    .dataframe thead th {\n",
       "        text-align: right;\n",
       "    }\n",
       "</style>\n",
       "<table border=\"1\" class=\"dataframe\">\n",
       "  <thead>\n",
       "    <tr style=\"text-align: right;\">\n",
       "      <th></th>\n",
       "      <th>TV</th>\n",
       "      <th>Real</th>\n",
       "      <th>Predicho</th>\n",
       "    </tr>\n",
       "  </thead>\n",
       "  <tbody>\n",
       "    <tr>\n",
       "      <th>0</th>\n",
       "      <td>210.8</td>\n",
       "      <td>23.8</td>\n",
       "      <td>16.967415</td>\n",
       "    </tr>\n",
       "    <tr>\n",
       "      <th>1</th>\n",
       "      <td>13.2</td>\n",
       "      <td>5.6</td>\n",
       "      <td>6.452618</td>\n",
       "    </tr>\n",
       "    <tr>\n",
       "      <th>2</th>\n",
       "      <td>253.8</td>\n",
       "      <td>17.6</td>\n",
       "      <td>17.929181</td>\n",
       "    </tr>\n",
       "    <tr>\n",
       "      <th>3</th>\n",
       "      <td>265.2</td>\n",
       "      <td>12.7</td>\n",
       "      <td>18.342799</td>\n",
       "    </tr>\n",
       "    <tr>\n",
       "      <th>4</th>\n",
       "      <td>289.7</td>\n",
       "      <td>25.4</td>\n",
       "      <td>20.157052</td>\n",
       "    </tr>\n",
       "    <tr>\n",
       "      <th>5</th>\n",
       "      <td>193.7</td>\n",
       "      <td>19.2</td>\n",
       "      <td>16.472989</td>\n",
       "    </tr>\n",
       "    <tr>\n",
       "      <th>6</th>\n",
       "      <td>218.5</td>\n",
       "      <td>12.2</td>\n",
       "      <td>17.148619</td>\n",
       "    </tr>\n",
       "    <tr>\n",
       "      <th>7</th>\n",
       "      <td>149.8</td>\n",
       "      <td>10.1</td>\n",
       "      <td>14.638979</td>\n",
       "    </tr>\n",
       "    <tr>\n",
       "      <th>8</th>\n",
       "      <td>19.6</td>\n",
       "      <td>7.6</td>\n",
       "      <td>7.417398</td>\n",
       "    </tr>\n",
       "    <tr>\n",
       "      <th>9</th>\n",
       "      <td>48.3</td>\n",
       "      <td>11.6</td>\n",
       "      <td>10.099509</td>\n",
       "    </tr>\n",
       "  </tbody>\n",
       "</table>\n",
       "</div>"
      ],
      "text/plain": [
       "      TV  Real   Predicho\n",
       "0  210.8  23.8  16.967415\n",
       "1   13.2   5.6   6.452618\n",
       "2  253.8  17.6  17.929181\n",
       "3  265.2  12.7  18.342799\n",
       "4  289.7  25.4  20.157052\n",
       "5  193.7  19.2  16.472989\n",
       "6  218.5  12.2  17.148619\n",
       "7  149.8  10.1  14.638979\n",
       "8   19.6   7.6   7.417398\n",
       "9   48.3  11.6  10.099509"
      ]
     },
     "execution_count": 56,
     "metadata": {},
     "output_type": "execute_result"
    }
   ],
   "source": [
    "diccionario = {'TV': TV_test.flatten().tolist(),\n",
    "                'Real' : Sales_test.flatten().tolist(), \n",
    "               'Predicho' : predicciones.flatten().tolist()}\n",
    "comparaciones = pd.DataFrame(diccionario)\n",
    "comparaciones.head(10)"
   ]
  },
  {
   "cell_type": "markdown",
   "metadata": {},
   "source": [
    "## Valor de R Square\n"
   ]
  },
  {
   "cell_type": "code",
   "execution_count": 58,
   "metadata": {},
   "outputs": [
    {
     "name": "stdout",
     "output_type": "stream",
     "text": [
      "R Square : 0.6981\n",
      "R Square : 0.6743915606787871\n"
     ]
    }
   ],
   "source": [
    "r = np.corrcoef(comparaciones['Real'], comparaciones['Predicho'])\n",
    "r = r ** 2\n",
    "r = r.reshape(-1,2)\n",
    "r = r[0, 1]\n",
    "print('R Square :', np.round(r, 4) )\n",
    "print('R Square :', r2_score(comparaciones['Real'], comparaciones['Predicho'] ))\n"
   ]
  },
  {
   "cell_type": "markdown",
   "metadata": {},
   "source": [
    "## Evaluar predicciones con rmse"
   ]
  },
  {
   "cell_type": "code",
   "execution_count": 61,
   "metadata": {},
   "outputs": [
    {
     "name": "stdout",
     "output_type": "stream",
     "text": [
      "Mean Squared Error: MSE 10.901856926080441\n",
      "Root Mean Squared Error RMSE: 3.301796015213605\n"
     ]
    },
    {
     "data": {
      "text/plain": [
       "[3.2800791734889962, 3.356136682554852, 3.301796015213605]"
      ]
     },
     "execution_count": 61,
     "metadata": {},
     "output_type": "execute_result"
    }
   ],
   "source": [
    "print('Mean Squared Error: MSE', metrics.mean_squared_error(Sales_test, predicciones))\n",
    "print('Root Mean Squared Error RMSE:', np.sqrt(metrics.mean_squared_error(Sales_test, predicciones)))\n",
    "rmse.append(np.sqrt(metrics.mean_squared_error(Sales_test, predicciones)))\n",
    "\n",
    "rmse"
   ]
  },
  {
   "cell_type": "markdown",
   "metadata": {},
   "source": [
    "# Intepretación"
   ]
  },
  {
   "cell_type": "code",
   "execution_count": 62,
   "metadata": {},
   "outputs": [
    {
     "data": {
      "text/plain": [
       "[3.2800791734889962, 3.356136682554852, 3.301796015213605]"
      ]
     },
     "execution_count": 62,
     "metadata": {},
     "output_type": "execute_result"
    }
   ],
   "source": [
    "rmse"
   ]
  },
  {
   "cell_type": "markdown",
   "metadata": {},
   "source": [
    "Yo utilicé el 20% de los datos para el entrenamiento y me resultó en que el modelo de regresión lineal simple es más efectivo, seguido del polinomial de quinto nivel y por último, el polinomial de segundo nivel fue el menos efectivo."
   ]
  }
 ],
 "metadata": {
  "kernelspec": {
   "display_name": "Python 3.10.0 ('.venv': venv)",
   "language": "python",
   "name": "python3"
  },
  "language_info": {
   "codemirror_mode": {
    "name": "ipython",
    "version": 3
   },
   "file_extension": ".py",
   "mimetype": "text/x-python",
   "name": "python",
   "nbconvert_exporter": "python",
   "pygments_lexer": "ipython3",
   "version": "3.10.0"
  },
  "orig_nbformat": 4,
  "vscode": {
   "interpreter": {
    "hash": "94a9a47cd63edf064273420544211dc39e24505107daed98145828c8244b81fc"
   }
  }
 },
 "nbformat": 4,
 "nbformat_minor": 2
}
